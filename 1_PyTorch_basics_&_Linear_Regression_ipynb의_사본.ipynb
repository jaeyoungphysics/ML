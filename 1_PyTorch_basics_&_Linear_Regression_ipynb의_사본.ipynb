{
  "nbformat": 4,
  "nbformat_minor": 0,
  "metadata": {
    "colab": {
      "name": "1_PyTorch_basics_&_Linear_Regression.ipynb의 사본",
      "provenance": [],
      "collapsed_sections": [
        "C_DdEeD-UT_h"
      ],
      "include_colab_link": true
    },
    "kernelspec": {
      "name": "python3",
      "display_name": "Python 3"
    },
    "accelerator": "GPU"
  },
  "cells": [
    {
      "cell_type": "markdown",
      "metadata": {
        "id": "view-in-github",
        "colab_type": "text"
      },
      "source": [
        "<a href=\"https://colab.research.google.com/github/jaeyoungphysics/ML/blob/main/1_PyTorch_basics_%26_Linear_Regression_ipynb%EC%9D%98_%EC%82%AC%EB%B3%B8.ipynb\" target=\"_parent\"><img src=\"https://colab.research.google.com/assets/colab-badge.svg\" alt=\"Open In Colab\"/></a>"
      ]
    },
    {
      "cell_type": "markdown",
      "metadata": {
        "id": "WITVSCRhm8n3"
      },
      "source": [
        "# **PyTorch Basics (Tensor 사용법)**"
      ]
    },
    {
      "cell_type": "code",
      "metadata": {
        "id": "zCdVCYw0QuhC"
      },
      "source": [
        "# 파이토치 import 하기\n",
        "import torch"
      ],
      "execution_count": null,
      "outputs": []
    },
    {
      "cell_type": "markdown",
      "metadata": {
        "id": "usc5KRC-RtiX"
      },
      "source": [
        "PyTorch는 매우 편리한 tensor 연산을 지원한다\n",
        "\n",
        "(tensor : 일반적인 n차원 배열을 나타내는 PyTorch의 자료형)"
      ]
    },
    {
      "cell_type": "markdown",
      "metadata": {
        "id": "fCbTGH_pSG1S"
      },
      "source": [
        "\n",
        "\n",
        "### **1)   1-dim Tensor (a.k.a vector)**\n",
        "\n"
      ]
    },
    {
      "cell_type": "code",
      "metadata": {
        "id": "GFqIpmnDSDbI"
      },
      "source": [
        "# 6개의 원소를 가지는 1차원 배열 (= 1차원 텐서, 혹은 벡터라고 부름) 생성\n",
        "v = torch.tensor([1., 2., 3., 4., 5., 6.,])"
      ],
      "execution_count": null,
      "outputs": []
    },
    {
      "cell_type": "code",
      "metadata": {
        "colab": {
          "base_uri": "https://localhost:8080/"
        },
        "id": "XCoRqgVtSghV",
        "outputId": "21568ac3-1ec2-41c9-d0cb-cde339dc4128"
      },
      "source": [
        "v"
      ],
      "execution_count": null,
      "outputs": [
        {
          "output_type": "execute_result",
          "data": {
            "text/plain": [
              "tensor([1., 2., 3., 4., 5., 6.])"
            ]
          },
          "metadata": {
            "tags": []
          },
          "execution_count": 107
        }
      ]
    },
    {
      "cell_type": "code",
      "metadata": {
        "colab": {
          "base_uri": "https://localhost:8080/"
        },
        "id": "fZjpjXGqShmk",
        "outputId": "e2c8485e-bfe2-48f0-f4da-8dd8dd271897"
      },
      "source": [
        "# dim()을 사용해 텐서 자료형의 차원을 확인 가능\n",
        "v.dim()"
      ],
      "execution_count": null,
      "outputs": [
        {
          "output_type": "execute_result",
          "data": {
            "text/plain": [
              "1"
            ]
          },
          "metadata": {
            "tags": []
          },
          "execution_count": 108
        }
      ]
    },
    {
      "cell_type": "code",
      "metadata": {
        "colab": {
          "base_uri": "https://localhost:8080/"
        },
        "id": "tMSaOGYoSuxZ",
        "outputId": "af98ef80-4ed2-4f87-9da3-dd8474ea58f6"
      },
      "source": [
        "# shape, 혹은 size() 를 사용해 텐서의 크기 확인 가능\n",
        "print(v.shape)\n",
        "print(v.size())"
      ],
      "execution_count": null,
      "outputs": [
        {
          "output_type": "stream",
          "text": [
            "torch.Size([6])\n",
            "torch.Size([6])\n"
          ],
          "name": "stdout"
        }
      ]
    },
    {
      "cell_type": "markdown",
      "metadata": {
        "id": "-0fbnAcoTNTX"
      },
      "source": [
        "텐서의 각 원소는 일반적인 numpy 배열과 같이 인덱스를 통한 접근, 슬라이싱 등이 가능하다"
      ]
    },
    {
      "cell_type": "code",
      "metadata": {
        "colab": {
          "base_uri": "https://localhost:8080/"
        },
        "id": "ObV_EuwUTMOF",
        "outputId": "d17d68ea-3132-4e91-d706-0bdbe8d2a5d1"
      },
      "source": [
        "print(v[0], v[1], v[-1]) # 인덱스를 사용한 원소 접근\n",
        "print(v[1:3], v[3:-1])   # 슬라이싱, [x:y] > 인덱스 기준 x번 원소부터 시작 ~ y-1번 원소까지 표시\n",
        "print(v[:2] , v[3:])     # 슬라이싱, [:x] > 인덱스 기준 첫 원소부터 x-1번 원소까지 표시, [x:] > 인덱스 기준 x번 원소부터 끝까지 표시"
      ],
      "execution_count": null,
      "outputs": [
        {
          "output_type": "stream",
          "text": [
            "tensor(1.) tensor(2.) tensor(6.)\n",
            "tensor([2., 3.]) tensor([4., 5.])\n",
            "tensor([1., 2.]) tensor([4., 5., 6.])\n"
          ],
          "name": "stdout"
        }
      ]
    },
    {
      "cell_type": "markdown",
      "metadata": {
        "id": "C_DdEeD-UT_h"
      },
      "source": [
        "### **2)   2-dim Tensor (a.k.a matrix)**\n"
      ]
    },
    {
      "cell_type": "code",
      "metadata": {
        "id": "KnpqtTKRUhx2"
      },
      "source": [
        "# 4x3 구조를 가진 2차원 배열 (= 2차원 텐서, 혹은 행렬) 생성\n",
        "m = torch.tensor([[1., 2., 3.],\n",
        "                  [4., 5., 6.],\n",
        "                  [7., 8., 9.],\n",
        "                  [10., 11., 12.]\n",
        "                  ])"
      ],
      "execution_count": null,
      "outputs": []
    },
    {
      "cell_type": "code",
      "metadata": {
        "colab": {
          "base_uri": "https://localhost:8080/"
        },
        "id": "pHq_gEGxUn6K",
        "outputId": "d0622c06-a0a9-4eea-d859-2c23dc263417"
      },
      "source": [
        "m"
      ],
      "execution_count": null,
      "outputs": [
        {
          "output_type": "execute_result",
          "data": {
            "text/plain": [
              "tensor([[ 1.,  2.,  3.],\n",
              "        [ 4.,  5.,  6.],\n",
              "        [ 7.,  8.,  9.],\n",
              "        [10., 11., 12.]])"
            ]
          },
          "metadata": {
            "tags": []
          },
          "execution_count": 112
        }
      ]
    },
    {
      "cell_type": "code",
      "metadata": {
        "colab": {
          "base_uri": "https://localhost:8080/"
        },
        "id": "qpiAdldZU6ce",
        "outputId": "54e9605e-7477-4937-e3d4-088859b48c5e"
      },
      "source": [
        "# 마찬가지로 dim()을 통해 차원을 확인 가능, 2차원 텐서임을 확인 가능\n",
        "m.dim()"
      ],
      "execution_count": null,
      "outputs": [
        {
          "output_type": "execute_result",
          "data": {
            "text/plain": [
              "2"
            ]
          },
          "metadata": {
            "tags": []
          },
          "execution_count": 113
        }
      ]
    },
    {
      "cell_type": "code",
      "metadata": {
        "colab": {
          "base_uri": "https://localhost:8080/"
        },
        "id": "sOku9gSjVOF3",
        "outputId": "27a366ee-b58c-4b2b-acc5-dad593643253"
      },
      "source": [
        "# shape, size() 통한 크기 확인도 똑같이 가능, 4x3 크기를 확인 가능\n",
        "print(m.shape)\n",
        "print(m.size())"
      ],
      "execution_count": null,
      "outputs": [
        {
          "output_type": "stream",
          "text": [
            "torch.Size([4, 3])\n",
            "torch.Size([4, 3])\n"
          ],
          "name": "stdout"
        }
      ]
    },
    {
      "cell_type": "code",
      "metadata": {
        "colab": {
          "base_uri": "https://localhost:8080/"
        },
        "id": "o-YejlJJVVBI",
        "outputId": "b33b417d-8926-4749-f532-12e395a69ac4"
      },
      "source": [
        "# 2차원 텐서도 마찬가지로 인덱스를 통한 원소 접근과 슬라이싱이 가능하다\n",
        "print(m[:, :])         # 모든 원소 표시"
      ],
      "execution_count": null,
      "outputs": [
        {
          "output_type": "stream",
          "text": [
            "tensor([[ 1.,  2.,  3.],\n",
            "        [ 4.,  5.,  6.],\n",
            "        [ 7.,  8.,  9.],\n",
            "        [10., 11., 12.]])\n"
          ],
          "name": "stdout"
        }
      ]
    },
    {
      "cell_type": "code",
      "metadata": {
        "colab": {
          "base_uri": "https://localhost:8080/"
        },
        "id": "0RPRikyrVo8o",
        "outputId": "a8a4d224-7310-4361-d230-e24cb8257134"
      },
      "source": [
        "print(m[:, 2])         # 모든 행의 2번 인덱스 원소만 슬라이싱\n",
        "print(m[:, 2].dim())   # 이 경우의 차원, 4개의 원소를 가지는 1차원 텐서이기에 dim() = 1\n",
        "print(m[:, 2].size())  # 이 경우의 크기, 4개의 원소를 가지는 1차원 텐서로 표현"
      ],
      "execution_count": null,
      "outputs": [
        {
          "output_type": "stream",
          "text": [
            "tensor([ 3.,  6.,  9., 12.])\n",
            "1\n",
            "torch.Size([4])\n"
          ],
          "name": "stdout"
        }
      ]
    },
    {
      "cell_type": "code",
      "metadata": {
        "colab": {
          "base_uri": "https://localhost:8080/"
        },
        "id": "JDc0yr0WXxs-",
        "outputId": "fd67f3b8-0e78-4f29-c056-c7baafe79b14"
      },
      "source": [
        "print(m[:, :2])         # 모든 행의 2번 인덱스 전까지 원소 슬라이싱\n",
        "print(m[:, :2].dim())   # 이 경우 4x2의 크기를 가진 2차원 텐서이기에 dim() = 2\n",
        "print(m[:, :2].size())  # 이 경우 4x2의 크기를 가짐을 확인 가능"
      ],
      "execution_count": null,
      "outputs": [
        {
          "output_type": "stream",
          "text": [
            "tensor([[ 1.,  2.],\n",
            "        [ 4.,  5.],\n",
            "        [ 7.,  8.],\n",
            "        [10., 11.]])\n",
            "2\n",
            "torch.Size([4, 2])\n"
          ],
          "name": "stdout"
        }
      ]
    },
    {
      "cell_type": "code",
      "metadata": {
        "colab": {
          "base_uri": "https://localhost:8080/"
        },
        "id": "yUkrdAvSX0SV",
        "outputId": "1fe8b92e-432f-4223-83b9-a8f06e31a99e"
      },
      "source": [
        "print(m[0, :])          # 0번 행의 모든 열 원소만 슬라이싱\n",
        "print(m[:2, :2])        # 2번 행, 열 전까지의 원소만 슬라이싱"
      ],
      "execution_count": null,
      "outputs": [
        {
          "output_type": "stream",
          "text": [
            "tensor([1., 2., 3.])\n",
            "tensor([[1., 2.],\n",
            "        [4., 5.]])\n"
          ],
          "name": "stdout"
        }
      ]
    },
    {
      "cell_type": "markdown",
      "metadata": {
        "id": "KNz4AcyOX8bv"
      },
      "source": [
        "마찬가지 방법으로 3차원 이상 배열 또한 생성, 조작 가능하다"
      ]
    },
    {
      "cell_type": "markdown",
      "metadata": {
        "id": "C-defG85YG-y"
      },
      "source": [
        "### **3)   행렬 연산 시의 Broadcasting**\n"
      ]
    },
    {
      "cell_type": "markdown",
      "metadata": {
        "id": "Yhz3fRVGYO2F"
      },
      "source": [
        "수학적으로 연산이 불가능한 행렬 사이의 연산(행렬 차원이 맞지 않는 곱셈, 덧셈 등)을 수행할 시, 자동으로 텐서의 차원을 맞춰주는 기능\n",
        "\n",
        "편리하지만 때로 심각한 오류 발생 가능성 또한 있으므로 주의"
      ]
    },
    {
      "cell_type": "code",
      "metadata": {
        "colab": {
          "base_uri": "https://localhost:8080/"
        },
        "id": "of48s8XoX1wT",
        "outputId": "806980ba-564b-4fc0-9f67-fa003c6e834c"
      },
      "source": [
        "# 크기가 같은 텐서 사이 덧셈\n",
        "m1 = torch.tensor([[3, 3]])         # 크기 1x2\n",
        "m2 = torch.tensor([[2, 2]])         # 크기 1x2\n",
        "print(m1 + m2)"
      ],
      "execution_count": null,
      "outputs": [
        {
          "output_type": "stream",
          "text": [
            "tensor([[5, 5]])\n"
          ],
          "name": "stdout"
        }
      ]
    },
    {
      "cell_type": "code",
      "metadata": {
        "colab": {
          "base_uri": "https://localhost:8080/"
        },
        "id": "4O8tkmzxY_S7",
        "outputId": "f7782bf4-a995-4a97-e993-00f9621904ee"
      },
      "source": [
        "# 크기가 다른 텐서 사이 덧셈\n",
        "m1 = torch.tensor([[1., 2.]])      # 크기 1x2\n",
        "m2 = torch.tensor([3])             # 크기 1x1\n",
        "print(m1 + m2)                     # m2를 브로드캐스팅을 통해 (3, 3)으로 변환 후 덧셈"
      ],
      "execution_count": null,
      "outputs": [
        {
          "output_type": "stream",
          "text": [
            "tensor([[4., 5.]])\n"
          ],
          "name": "stdout"
        }
      ]
    },
    {
      "cell_type": "markdown",
      "metadata": {
        "id": "CqXdR1ozZZTS"
      },
      "source": [
        "일반적으로 (1, 2) + 3 이라는 연산을 수행할 수 없지만, PyTorch는 자동으로 3을 (3, 3)으로 바꾼 후 덧셈을 수행한다"
      ]
    },
    {
      "cell_type": "code",
      "metadata": {
        "colab": {
          "base_uri": "https://localhost:8080/"
        },
        "id": "LiH3v-5mZYJw",
        "outputId": "894e29c2-5577-4bcc-ce7d-f9ddb57beac4"
      },
      "source": [
        "# 2x1 텐서 + 1x2 텐서\n",
        "m1 = torch.tensor([[1, 2]])\n",
        "m2 = torch.tensor([[3], [4]])\n",
        "print(m1 + m2)"
      ],
      "execution_count": null,
      "outputs": [
        {
          "output_type": "stream",
          "text": [
            "tensor([[4, 5],\n",
            "        [5, 6]])\n"
          ],
          "name": "stdout"
        }
      ]
    },
    {
      "cell_type": "markdown",
      "metadata": {
        "id": "9jQuww70aGlD"
      },
      "source": [
        "마찬가지로,  \n",
        "$\n",
        "(1 ,2) + \\left(\\begin{array}{r}3\\\\4\\end{array}\\right)\n",
        "$\n",
        "의 경우\n",
        "\n",
        "$\n",
        "(1, 2) \\rightarrow \\left(\\begin{array}{rr}1&2\\\\1&2\\end{array}\\right)\n",
        "$\n",
        "\n",
        "$\n",
        "\\left(\\begin{array}{r}3\\\\4\\end{array}\\right) \\rightarrow \\left(\\begin{array}{rr}3&3\\\\4&4\\end{array}\\right)\n",
        "$ 로 변환 후 덧셈을 수행\n",
        "\n"
      ]
    },
    {
      "cell_type": "markdown",
      "metadata": {
        "id": "eOLYWgNYdjdo"
      },
      "source": [
        "행렬 곱셈 연산에는 두 가지 종류가 있다.\n",
        "\n",
        "일반적인 행렬 곱셈과 똑같은 matmul() = mm() , 혹은 원소별로 곱셈을 하는 mul() = *\n",
        "\n",
        "행렬 곱셈 연산중 mul()의 경우 마찬가지로 브로드캐스팅이 적용된다"
      ]
    },
    {
      "cell_type": "code",
      "metadata": {
        "colab": {
          "base_uri": "https://localhost:8080/"
        },
        "id": "rqstPNX6fkNk",
        "outputId": "bd96fce2-f14e-4a70-884d-8806b3f4d62f"
      },
      "source": [
        "# 일반적인 행렬 곱셈을 수행하는 matmul(), 혹은 줄여서 mm()\n",
        "m1 = torch.tensor([[1, 2], [3, 4]])\n",
        "m2 = torch.tensor([[1], [2]])\n",
        "print('Shape of Matrix 1: ', m1.shape)  # 2 x 2\n",
        "print('Shape of Matrix 2: ', m2.shape)  # 2 x 1\n",
        "print(m1.matmul(m2))                    # 2 x 1\n",
        "print(m1.mm(m2))                        # 2 x 1"
      ],
      "execution_count": null,
      "outputs": [
        {
          "output_type": "stream",
          "text": [
            "Shape of Matrix 1:  torch.Size([2, 2])\n",
            "Shape of Matrix 2:  torch.Size([2, 1])\n",
            "tensor([[ 5],\n",
            "        [11]])\n",
            "tensor([[ 5],\n",
            "        [11]])\n"
          ],
          "name": "stdout"
        }
      ]
    },
    {
      "cell_type": "code",
      "metadata": {
        "colab": {
          "base_uri": "https://localhost:8080/",
          "height": 244
        },
        "id": "ge6Lg3Oxfv_C",
        "outputId": "6104dbde-be49-4a1e-be42-bb3f5c5ce0c5"
      },
      "source": [
        " # matmul() 혹은 mm()의 경우 브로드캐스팅이 적용되지 않는다\n",
        "m1 = torch.FloatTensor([[1, 2], [3, 4]])\n",
        "m2 = torch.FloatTensor([[1, 2]])\n",
        "print('Shape of Matrix 1: ', m1.shape)  # 2 x 2\n",
        "print('Shape of Matrix 2: ', m2.shape)  # 1 x 2\n",
        "print(m1.matmul(m2))                    # 계산 시 에러 발생"
      ],
      "execution_count": null,
      "outputs": [
        {
          "output_type": "stream",
          "text": [
            "Shape of Matrix 1:  torch.Size([2, 2])\n",
            "Shape of Matrix 2:  torch.Size([1, 2])\n"
          ],
          "name": "stdout"
        },
        {
          "output_type": "error",
          "ename": "RuntimeError",
          "evalue": "ignored",
          "traceback": [
            "\u001b[0;31m---------------------------------------------------------------------------\u001b[0m",
            "\u001b[0;31mRuntimeError\u001b[0m                              Traceback (most recent call last)",
            "\u001b[0;32m<ipython-input-134-b0d5e00c39fa>\u001b[0m in \u001b[0;36m<module>\u001b[0;34m()\u001b[0m\n\u001b[1;32m      4\u001b[0m \u001b[0mprint\u001b[0m\u001b[0;34m(\u001b[0m\u001b[0;34m'Shape of Matrix 1: '\u001b[0m\u001b[0;34m,\u001b[0m \u001b[0mm1\u001b[0m\u001b[0;34m.\u001b[0m\u001b[0mshape\u001b[0m\u001b[0;34m)\u001b[0m  \u001b[0;31m# 2 x 2\u001b[0m\u001b[0;34m\u001b[0m\u001b[0;34m\u001b[0m\u001b[0m\n\u001b[1;32m      5\u001b[0m \u001b[0mprint\u001b[0m\u001b[0;34m(\u001b[0m\u001b[0;34m'Shape of Matrix 2: '\u001b[0m\u001b[0;34m,\u001b[0m \u001b[0mm2\u001b[0m\u001b[0;34m.\u001b[0m\u001b[0mshape\u001b[0m\u001b[0;34m)\u001b[0m  \u001b[0;31m# 1 x 2\u001b[0m\u001b[0;34m\u001b[0m\u001b[0;34m\u001b[0m\u001b[0m\n\u001b[0;32m----> 6\u001b[0;31m \u001b[0mprint\u001b[0m\u001b[0;34m(\u001b[0m\u001b[0mm1\u001b[0m\u001b[0;34m.\u001b[0m\u001b[0mmatmul\u001b[0m\u001b[0;34m(\u001b[0m\u001b[0mm2\u001b[0m\u001b[0;34m)\u001b[0m\u001b[0;34m)\u001b[0m                    \u001b[0;31m# 계산 시 에러 발생\u001b[0m\u001b[0;34m\u001b[0m\u001b[0;34m\u001b[0m\u001b[0m\n\u001b[0m",
            "\u001b[0;31mRuntimeError\u001b[0m: mat1 and mat2 shapes cannot be multiplied (2x2 and 1x2)"
          ]
        }
      ]
    },
    {
      "cell_type": "code",
      "metadata": {
        "id": "rvb3N8BzgOzN"
      },
      "source": [
        "print(m1.mm(m2))                        # 계산 시 에러 발생"
      ],
      "execution_count": null,
      "outputs": []
    },
    {
      "cell_type": "code",
      "metadata": {
        "id": "g8-oFMP9aCrF"
      },
      "source": [
        "# 행렬 원소 사이 곱을 수행하는 mul(), 혹은 * 연산자, 이 경우 브로드캐스팅이 적용된다\n",
        "m1 = torch.tensor([[1, 2], [3, 4]])\n",
        "m2 = torch.tensor([[1], [2]])\n",
        "print('Shape of Matrix 1: ', m1.shape) # 2 x 2\n",
        "print('Shape of Matrix 2: ', m2.shape) # 2 x 1\n",
        "print(m1 * m2) # 2 x 2\n",
        "print(m1.mul(m2))"
      ],
      "execution_count": null,
      "outputs": []
    },
    {
      "cell_type": "markdown",
      "metadata": {
        "id": "BugPWiaTeS8g"
      },
      "source": [
        "$\n",
        "\\left(\\begin{array}{rr}1&2\\\\3&4\\end{array}\\right) * \\left(\\begin{array}{r}1\\\\2\\end{array}\\right)\n",
        "$\n",
        "\n",
        "여기서 * 은 mul() 과 똑같은 연산을 한다\n",
        "\n",
        "이 경우\n",
        "$\n",
        "\\left(\\begin{array}{r}1\\\\2\\end{array}\\right) \\rightarrow \\left(\\begin{array}{rr}1&1\\\\2&2\\end{array}\\right)\n",
        "$ 로 바꾼 후\n",
        "\n",
        "$\n",
        "\\left(\\begin{array}{rr}1&2\\\\3&4\\end{array}\\right) * \\left(\\begin{array}{rr}1&1\\\\2&2\\end{array}\\right) = \\left(\\begin{array}{rr}1\\times1&2\\times1\\\\3\\times2&4\\times2\\end{array}\\right) = \\left(\\begin{array}{rr}1&2\\\\6&8\\end{array}\\right)\n",
        "$ 원소별로 곱셈을 수행한다"
      ]
    },
    {
      "cell_type": "markdown",
      "metadata": {
        "id": "xzf9At_Cj-Ze"
      },
      "source": [
        "### **4)   다양한 텐서 계산 Tool**\n"
      ]
    },
    {
      "cell_type": "code",
      "metadata": {
        "id": "seWIxWOqg7FI",
        "colab": {
          "base_uri": "https://localhost:8080/"
        },
        "outputId": "45ffe919-478c-403c-b3f4-c62dce6d3502"
      },
      "source": [
        "# 텐서 원소들의 평균 계산\n",
        "t = torch.tensor([1., 2.])\n",
        "print(t.mean())                # 원소 평균 계산"
      ],
      "execution_count": null,
      "outputs": [
        {
          "output_type": "stream",
          "text": [
            "tensor(1.5000)\n"
          ],
          "name": "stdout"
        }
      ]
    },
    {
      "cell_type": "code",
      "metadata": {
        "id": "TbI4WA6WhF9h",
        "colab": {
          "base_uri": "https://localhost:8080/"
        },
        "outputId": "24bac9e7-d9c0-4095-fee7-7cb04e577a13"
      },
      "source": [
        "t = torch.tensor([[1., 2.], [3., 4.]])\n",
        "print(t)\n",
        "print(t.mean())                 # 마찬가지로 원소 평균 계산\n",
        "print(t.mean(dim=0))            # 첫 번째 차원(= 행)을 제거하고 평균 계산, 즉 같은 열 다른 행의 원소끼리 평균 계산\n",
        "print(t.mean(dim=1))            # 두 번째 차원(= 열)을 제거하고 평균 계산, 즉 같은 행 다른 열의 원소끼리 평균 계산\n",
        "print(t.mean(dim=-1))           # 마지막 차원(= 2차원 배열이므로 여기선 열)을 제거하고 평균 계산, 즉 같은 행 다른 열의 원소끼리 평균 계산"
      ],
      "execution_count": null,
      "outputs": [
        {
          "output_type": "stream",
          "text": [
            "tensor([[1., 2.],\n",
            "        [3., 4.]])\n",
            "tensor(2.5000)\n",
            "tensor([2., 3.])\n",
            "tensor([1.5000, 3.5000])\n",
            "tensor([1.5000, 3.5000])\n"
          ],
          "name": "stdout"
        }
      ]
    },
    {
      "cell_type": "code",
      "metadata": {
        "id": "uEsLTs6FhWd1",
        "colab": {
          "base_uri": "https://localhost:8080/"
        },
        "outputId": "4de451e5-c134-44d3-bd7c-7cfc79a0609e"
      },
      "source": [
        "# 원소 합 계산\n",
        "t = torch.tensor([[1., 2.], [3., 4.]])\n",
        "print(t)\n",
        "print(t.sum())       # 단순히 원소 전체의 덧셈을 수행\n",
        "print(t.sum(dim=0))  # 행을 제거\n",
        "print(t.sum(dim=1))  # 열을 제거\n",
        "print(t.sum(dim=-1)) # 마지막 차원(= 열)을 제거"
      ],
      "execution_count": null,
      "outputs": [
        {
          "output_type": "stream",
          "text": [
            "tensor([[1., 2.],\n",
            "        [3., 4.]])\n",
            "tensor(10.)\n",
            "tensor([4., 6.])\n",
            "tensor([3., 7.])\n",
            "tensor([3., 7.])\n"
          ],
          "name": "stdout"
        }
      ]
    },
    {
      "cell_type": "code",
      "metadata": {
        "id": "-O-XbcnKiAcJ",
        "colab": {
          "base_uri": "https://localhost:8080/"
        },
        "outputId": "2ec0d927-1fa6-4a4c-c309-8dd09bc807f2"
      },
      "source": [
        "# 최대값을 가지는 원소 혹은 그 원소의 인덱스 반환\n",
        "t = torch.tensor([[1., 2.], [3., 4.]])\n",
        "print(t)\n",
        "\n",
        "print(t.max())        # 원소 중 최대값인 4를 반환"
      ],
      "execution_count": null,
      "outputs": [
        {
          "output_type": "stream",
          "text": [
            "tensor([[1., 2.],\n",
            "        [3., 4.]])\n",
            "tensor(4.)\n"
          ],
          "name": "stdout"
        }
      ]
    },
    {
      "cell_type": "code",
      "metadata": {
        "id": "q1ioxz1wiYS9",
        "colab": {
          "base_uri": "https://localhost:8080/"
        },
        "outputId": "d6b5af13-3997-4476-fc7a-be224bd5427c"
      },
      "source": [
        "print(t.max(dim=0))   # 행 삭제, 각 열에서 가장 큰 값을 반환, 각 열의 가장 큰 값이 몇 번째 열에 있는지 인덱스 또한 반환"
      ],
      "execution_count": null,
      "outputs": [
        {
          "output_type": "stream",
          "text": [
            "torch.return_types.max(\n",
            "values=tensor([3., 4.]),\n",
            "indices=tensor([1, 1]))\n"
          ],
          "name": "stdout"
        }
      ]
    },
    {
      "cell_type": "markdown",
      "metadata": {
        "id": "T7YSaGr7jnwi"
      },
      "source": [
        "첫번째 열에서 0번 인덱스는 1, 1번 인덱스는 3 \\\\\n",
        "두번째 열에서 0번 인덱스는 2, 1번 인덱스는 4 \\\\\n",
        "다시 말해 3과 4의 인덱스는 [1, 1]"
      ]
    },
    {
      "cell_type": "code",
      "metadata": {
        "id": "hzde5Dc3jYB9",
        "colab": {
          "base_uri": "https://localhost:8080/"
        },
        "outputId": "9f76da16-0b30-43bf-e1ec-95fda8998a6e"
      },
      "source": [
        "# max와 argmax를 따로 표시\n",
        "print('Max: ', t.max(dim=0)[0])\n",
        "print('Argmax: ', t.max(dim=0)[1])"
      ],
      "execution_count": null,
      "outputs": [
        {
          "output_type": "stream",
          "text": [
            "Max:  tensor([3., 4.])\n",
            "Argmax:  tensor([1, 1])\n"
          ],
          "name": "stdout"
        }
      ]
    },
    {
      "cell_type": "markdown",
      "metadata": {
        "id": "XponIrdhkYJD"
      },
      "source": [
        "### **5)   텐서의 크기를 조작하는 View**\n",
        "\n"
      ]
    },
    {
      "cell_type": "code",
      "metadata": {
        "id": "PjMR98UPj4dS"
      },
      "source": [
        "import numpy as np\n",
        "t = np.array([[[0, 1, 2],\n",
        "               [3, 4, 5]],\n",
        "              [[6, 7, 8],\n",
        "               [9, 10, 11]]])               # (2x2x3) 크기를 가지는 numpy 배열 생성\n",
        "ft = torch.FloatTensor(t)                   # numpy 배열을 받아와 PyTorch 텐서로 사용 가능"
      ],
      "execution_count": null,
      "outputs": []
    },
    {
      "cell_type": "code",
      "metadata": {
        "id": "NzOhHem1kQ5C",
        "colab": {
          "base_uri": "https://localhost:8080/"
        },
        "outputId": "4b153ba2-52f1-4481-f165-297486c8e887"
      },
      "source": [
        "print(ft)\n",
        "print('\\n')\n",
        "print(ft.size())                            # 2x2x3 크기를 가진 텐서"
      ],
      "execution_count": null,
      "outputs": [
        {
          "output_type": "stream",
          "text": [
            "tensor([[[ 0.,  1.,  2.],\n",
            "         [ 3.,  4.,  5.]],\n",
            "\n",
            "        [[ 6.,  7.,  8.],\n",
            "         [ 9., 10., 11.]]])\n",
            "\n",
            "\n",
            "torch.Size([2, 2, 3])\n"
          ],
          "name": "stdout"
        }
      ]
    },
    {
      "cell_type": "code",
      "metadata": {
        "id": "WMFxkPKYk00x",
        "colab": {
          "base_uri": "https://localhost:8080/"
        },
        "outputId": "72c7ed4b-866c-428b-cd92-0537b9a898fd"
      },
      "source": [
        "# 텐서 크기를 바꿔주는 view() 사용해 2차원 텐서로 변경, -1은 원소 개수에 맞게 PyTorch가 알아서 크기 설정하라는 뜻\n",
        "print(ft.view([-1, 3]))                       # ft라는 텐서를 (?, 3)의 크기로 변경\n",
        "print(ft.view([-1, 3]).shape)                 # 2x2x3 크기의 3차원 텐서가 4x3 크기의 2차원 텐서로 변경됨"
      ],
      "execution_count": null,
      "outputs": [
        {
          "output_type": "stream",
          "text": [
            "tensor([[ 0.,  1.,  2.],\n",
            "        [ 3.,  4.,  5.],\n",
            "        [ 6.,  7.,  8.],\n",
            "        [ 9., 10., 11.]])\n",
            "torch.Size([4, 3])\n"
          ],
          "name": "stdout"
        }
      ]
    },
    {
      "cell_type": "markdown",
      "metadata": {
        "id": "_l4SYI-ml8xF"
      },
      "source": [
        "### **6)   크기 1인 차원을 제거하는 squeeze()**\n"
      ]
    },
    {
      "cell_type": "code",
      "metadata": {
        "id": "5p1H-DAcmKyY",
        "colab": {
          "base_uri": "https://localhost:8080/"
        },
        "outputId": "5bbab857-546a-469c-bb24-f83adbe295f1"
      },
      "source": [
        "ft = torch.tensor([[0.], [1.], [2.]])\n",
        "print(ft)\n",
        "print(ft.shape)          # 크기 3x1 을 가지는 텐서 생성"
      ],
      "execution_count": null,
      "outputs": [
        {
          "output_type": "stream",
          "text": [
            "tensor([[0.],\n",
            "        [1.],\n",
            "        [2.]])\n",
            "torch.Size([3, 1])\n"
          ],
          "name": "stdout"
        }
      ]
    },
    {
      "cell_type": "code",
      "metadata": {
        "id": "FahEZASsmVvW",
        "colab": {
          "base_uri": "https://localhost:8080/"
        },
        "outputId": "a7953fac-4510-4b7c-affb-0c8eed42cb19"
      },
      "source": [
        "print(ft.squeeze())       # 텐서에서 1의 크기를 가지는 차원을 제거, 크기 3의 벡터로 변환\n",
        "print(ft.squeeze().shape)"
      ],
      "execution_count": null,
      "outputs": [
        {
          "output_type": "stream",
          "text": [
            "tensor([0., 1., 2.])\n",
            "torch.Size([3])\n"
          ],
          "name": "stdout"
        }
      ]
    },
    {
      "cell_type": "markdown",
      "metadata": {
        "id": "kqlaPWVzmHAX"
      },
      "source": [
        "### **7)   크기 1인 차원을 추가하는 unsqueeze()**\n"
      ]
    },
    {
      "cell_type": "code",
      "metadata": {
        "id": "V6oRN07Smk_9",
        "colab": {
          "base_uri": "https://localhost:8080/"
        },
        "outputId": "164bd80e-9ae8-488a-dab8-42b8cbed4dc7"
      },
      "source": [
        "ft = torch.tensor([0., 1., 2.])\n",
        "print(ft)\n",
        "print(ft.size())                     # 크기 3을 가지는 텐서 생성"
      ],
      "execution_count": null,
      "outputs": [
        {
          "output_type": "stream",
          "text": [
            "tensor([0., 1., 2.])\n",
            "torch.Size([3])\n"
          ],
          "name": "stdout"
        }
      ]
    },
    {
      "cell_type": "code",
      "metadata": {
        "id": "IpM7mjGkmtDR",
        "colab": {
          "base_uri": "https://localhost:8080/"
        },
        "outputId": "7a63ccb9-bdb8-47b7-f39e-e0bf0ba1b014"
      },
      "source": [
        "print(ft.unsqueeze(0))               # 0번 차원(= 첫 번째 차원)에 크기 1을 추가, 즉 3 > 1x3 차원 텐서로 만든다\n",
        "print(ft.unsqueeze(0).shape)"
      ],
      "execution_count": null,
      "outputs": [
        {
          "output_type": "stream",
          "text": [
            "tensor([[0., 1., 2.]])\n",
            "torch.Size([1, 3])\n"
          ],
          "name": "stdout"
        }
      ]
    },
    {
      "cell_type": "code",
      "metadata": {
        "id": "-iHjdG6Jm8WW",
        "colab": {
          "base_uri": "https://localhost:8080/"
        },
        "outputId": "2ea4490b-c760-42a5-c844-ea77e2e7da22"
      },
      "source": [
        "# 동일한 연산을 view()로도 수행 가능\n",
        "print(ft.view(1, -1))                # 크기 3을 가지는 텐서를 (1, ?) 크기를 가지도록 변경\n",
        "print(ft.view(1, -1).shape)          # 원소 개수가 같아야 하므로 (1, 3) 크기로 바뀐다"
      ],
      "execution_count": null,
      "outputs": [
        {
          "output_type": "stream",
          "text": [
            "tensor([[0., 1., 2.]])\n",
            "torch.Size([1, 3])\n"
          ],
          "name": "stdout"
        }
      ]
    },
    {
      "cell_type": "code",
      "metadata": {
        "id": "xsLXof7dnaj6",
        "colab": {
          "base_uri": "https://localhost:8080/"
        },
        "outputId": "42adda7d-5fe0-4753-eb02-616692a43356"
      },
      "source": [
        "print(ft.unsqueeze(1))               # 1번 차원(= 두 번째 차원)에 크기 1을 추가, 즉 3 > 3x1 차원 텐서로 만든다\n",
        "print(ft.unsqueeze(1).shape)"
      ],
      "execution_count": null,
      "outputs": [
        {
          "output_type": "stream",
          "text": [
            "tensor([[0.],\n",
            "        [1.],\n",
            "        [2.]])\n",
            "torch.Size([3, 1])\n"
          ],
          "name": "stdout"
        }
      ]
    },
    {
      "cell_type": "markdown",
      "metadata": {
        "id": "Jgt7xThSnmtC"
      },
      "source": [
        "### **8)   텐서 연결하기 (concatenate)**\n"
      ]
    },
    {
      "cell_type": "code",
      "metadata": {
        "id": "3k0GqrgIniLt"
      },
      "source": [
        "x = torch.tensor([[1., 2.], [3., 4.]])\n",
        "y = torch.tensor([[5., 6.], [7., 8.]])"
      ],
      "execution_count": null,
      "outputs": []
    },
    {
      "cell_type": "code",
      "metadata": {
        "id": "28gtuIWKnx2n",
        "colab": {
          "base_uri": "https://localhost:8080/"
        },
        "outputId": "c25102e8-fd82-40de-987c-3ac4781c63d9"
      },
      "source": [
        "print(x)\n",
        "print(y)"
      ],
      "execution_count": null,
      "outputs": [
        {
          "output_type": "stream",
          "text": [
            "tensor([[1., 2.],\n",
            "        [3., 4.]])\n",
            "tensor([[5., 6.],\n",
            "        [7., 8.]])\n"
          ],
          "name": "stdout"
        }
      ]
    },
    {
      "cell_type": "code",
      "metadata": {
        "id": "_MoegB8Enzag",
        "colab": {
          "base_uri": "https://localhost:8080/"
        },
        "outputId": "6808c733-e5e1-407b-fdd1-06f9eaa2743e"
      },
      "source": [
        "# cat()을 사용해 두 텐서 합치기 가능, 여기서 dim 인자를 조절해 몇 번째 차원으로 합칠것인지 결정 가능\n",
        "print(torch.cat([x, y], dim=0))     # 0번 차원(= 행)을 확장하는 방향으로 텐서 합치기"
      ],
      "execution_count": null,
      "outputs": [
        {
          "output_type": "stream",
          "text": [
            "tensor([[1., 2.],\n",
            "        [3., 4.],\n",
            "        [5., 6.],\n",
            "        [7., 8.]])\n"
          ],
          "name": "stdout"
        }
      ]
    },
    {
      "cell_type": "code",
      "metadata": {
        "id": "L5Drt4Peoaa2",
        "colab": {
          "base_uri": "https://localhost:8080/"
        },
        "outputId": "10c1b779-fe0d-4a97-93dd-b4f32540f04a"
      },
      "source": [
        "print(torch.cat([x, y], dim=1))     # 1번 차원(= 열)을 확장하는 방향으로 텐서 합치기"
      ],
      "execution_count": null,
      "outputs": [
        {
          "output_type": "stream",
          "text": [
            "tensor([[1., 2., 5., 6.],\n",
            "        [3., 4., 7., 8.]])\n"
          ],
          "name": "stdout"
        }
      ]
    },
    {
      "cell_type": "code",
      "metadata": {
        "id": "CN3YQ1R9offu"
      },
      "source": [
        "# cat() 말고 stack()을 사용하는 편이 편리할 때도 있다\n",
        "x = torch.FloatTensor([1, 4])\n",
        "y = torch.FloatTensor([2, 5])\n",
        "z = torch.FloatTensor([3, 6])           # 모두 크기 2를 가지는 텐서"
      ],
      "execution_count": null,
      "outputs": []
    },
    {
      "cell_type": "code",
      "metadata": {
        "id": "fZQ8iBrxpFwe",
        "colab": {
          "base_uri": "https://localhost:8080/"
        },
        "outputId": "2e03250a-51a2-4f99-b93d-c08809c0dabc"
      },
      "source": [
        "torch.cat([x,y,z], dim=0)               # 애초에 0번 차원밖에 없으므로, dim=0를 명시하지 않아도 작동한다"
      ],
      "execution_count": null,
      "outputs": [
        {
          "output_type": "execute_result",
          "data": {
            "text/plain": [
              "tensor([1., 4., 2., 5., 3., 6.])"
            ]
          },
          "metadata": {
            "tags": []
          },
          "execution_count": 90
        }
      ]
    },
    {
      "cell_type": "code",
      "metadata": {
        "id": "1BCXo5KmpHoY",
        "colab": {
          "base_uri": "https://localhost:8080/",
          "height": 172
        },
        "outputId": "8e665613-ffb3-4005-d0ca-7a362b067ca6"
      },
      "source": [
        "torch.cat([x,y], dim=1)                 # 그러나 이를 2차원 배열로 쌓으려 하면 오류가 발생한다. 애초에 차원이 하나밖에 없기에 1번 차원(= 열)을 찾을 수 없기 때문"
      ],
      "execution_count": null,
      "outputs": [
        {
          "output_type": "error",
          "ename": "IndexError",
          "evalue": "ignored",
          "traceback": [
            "\u001b[0;31m---------------------------------------------------------------------------\u001b[0m",
            "\u001b[0;31mIndexError\u001b[0m                                Traceback (most recent call last)",
            "\u001b[0;32m<ipython-input-91-5e7a04c898f8>\u001b[0m in \u001b[0;36m<module>\u001b[0;34m()\u001b[0m\n\u001b[0;32m----> 1\u001b[0;31m \u001b[0mtorch\u001b[0m\u001b[0;34m.\u001b[0m\u001b[0mcat\u001b[0m\u001b[0;34m(\u001b[0m\u001b[0;34m[\u001b[0m\u001b[0mx\u001b[0m\u001b[0;34m,\u001b[0m\u001b[0my\u001b[0m\u001b[0;34m]\u001b[0m\u001b[0;34m,\u001b[0m \u001b[0mdim\u001b[0m\u001b[0;34m=\u001b[0m\u001b[0;36m1\u001b[0m\u001b[0;34m)\u001b[0m                 \u001b[0;31m# 그러나 이를 2차원 배열로 쌓으려 하면 오류가 발생한다. 애초에 차원이 하나밖에 없기에 1번 차원(= 열)을 찾을 수 없기 때문\u001b[0m\u001b[0;34m\u001b[0m\u001b[0;34m\u001b[0m\u001b[0m\n\u001b[0m",
            "\u001b[0;31mIndexError\u001b[0m: Dimension out of range (expected to be in range of [-1, 0], but got 1)"
          ]
        }
      ]
    },
    {
      "cell_type": "code",
      "metadata": {
        "id": "oJ3CIo15pxRF"
      },
      "source": [
        "print(torch.stack([x, y, z]))            # 이 경우 stack() 을 사용하면 훨씬 편리하게 합치기가 가능하다"
      ],
      "execution_count": null,
      "outputs": []
    },
    {
      "cell_type": "code",
      "metadata": {
        "id": "XaGArSE1p5NA"
      },
      "source": [
        "print(torch.cat([x.unsqueeze(0), y.unsqueeze(0), z.unsqueeze(0)], dim=0))  # 동일한 작업을 cat()으로 구현하면 복잡하다"
      ],
      "execution_count": null,
      "outputs": []
    },
    {
      "cell_type": "code",
      "metadata": {
        "id": "AqAuR4Lkp-7U"
      },
      "source": [
        "print(torch.stack([x, y, z], dim=1))     # 늘리기 원하는 차원을 명시해서 합치는 것 또한 가능"
      ],
      "execution_count": null,
      "outputs": []
    },
    {
      "cell_type": "markdown",
      "metadata": {
        "id": "UOlUVw9pqbv1"
      },
      "source": [
        "### **9)   1 혹은 0 으로 채워진 텐서 생성**\n"
      ]
    },
    {
      "cell_type": "code",
      "metadata": {
        "id": "u9F35d3EqLAU"
      },
      "source": [
        "# 때로는 기존 텐서와 동일한 크기를 가지고 내용물은 비어있는 텐서가 필요한 경우가 있다\n",
        "# 이 경우 zeros_like을 사용해 동일한 크기를 가지고 내용은 0으로 채운 텐서 생성이 가능\n",
        "\n",
        "x = torch.FloatTensor([[0, 1, 2], [2, 1, 0]])\n",
        "print(x)"
      ],
      "execution_count": null,
      "outputs": []
    },
    {
      "cell_type": "code",
      "metadata": {
        "id": "E6rdo-oeqsjZ"
      },
      "source": [
        "print(torch.zeros_like(x)) # 입력 텐서와 크기를 동일하게 하면서 값을 0으로 채우기"
      ],
      "execution_count": null,
      "outputs": []
    },
    {
      "cell_type": "code",
      "metadata": {
        "id": "nzZw4R6_qu9U"
      },
      "source": [
        "# 마찬가지로 같은 크기를 지니며 원소가 모두 1인 텐서도 생성 가능하다\n",
        "\n",
        "print(torch.ones_like(x)) # 입력 텐서와 크기를 동일하게 하면서 값을 1로 채우기"
      ],
      "execution_count": null,
      "outputs": []
    },
    {
      "cell_type": "markdown",
      "metadata": {
        "id": "L1b_5IkIq5Db"
      },
      "source": [
        "### **10)   덮어쓰기 연산**\n"
      ]
    },
    {
      "cell_type": "code",
      "metadata": {
        "id": "c97DnyP9q1Yp"
      },
      "source": [
        "# 2x2 크기를 가진 텐서 생성 후 x에 저장\n",
        "\n",
        "x = torch.FloatTensor([[1, 2], [3, 4]])\n",
        "\n",
        "print(x.mul(2.)) # 원소에 곱하기 2를 수행한 결과를 출력\n",
        "print(x)         # 기존의 값 출력"
      ],
      "execution_count": null,
      "outputs": []
    },
    {
      "cell_type": "code",
      "metadata": {
        "id": "wKTZ6gGsrvZG"
      },
      "source": [
        "# 변수 뒤에 _ 를 붙여서 연산을 하면서 그 값으로 변수를 덮어쓰는것이 가능하다\n",
        "\n",
        "print(x.mul_(2.))  # 원소에 곱하기 2를 수행한 결과를 변수 x에 값을 저장함과 동시에 결과를 출력\n",
        "print(x)           # 기존의 값 출력, 원소 곱하기 2가 된 값으로 업데이트 된 것을 확인 가능"
      ],
      "execution_count": null,
      "outputs": []
    },
    {
      "cell_type": "markdown",
      "metadata": {
        "id": "08vFMo1rsF2U"
      },
      "source": [
        "# **Function과 Class의 차이**"
      ]
    },
    {
      "cell_type": "markdown",
      "metadata": {
        "id": "a4MApUiCKzS_"
      },
      "source": [
        "### **1) Function을 이용해 덧셈 도구 만들기**"
      ]
    },
    {
      "cell_type": "code",
      "metadata": {
        "id": "XE4ixtDaKjia"
      },
      "source": [
        "result = 0"
      ],
      "execution_count": null,
      "outputs": []
    },
    {
      "cell_type": "markdown",
      "metadata": {
        "id": "Ocl5WVttLNei"
      },
      "source": [
        "전역 변수 result 를 선언, num 만큼 result에 더하는 function 만들기"
      ]
    },
    {
      "cell_type": "code",
      "metadata": {
        "id": "OKRtMFz3K-zi"
      },
      "source": [
        "def add(num):\n",
        "  global result\n",
        "  result += num\n",
        "  return result"
      ],
      "execution_count": null,
      "outputs": []
    },
    {
      "cell_type": "markdown",
      "metadata": {
        "id": "dr6SbanVMFX6"
      },
      "source": [
        "result = 0 에 3, 4를 순서대로 더하여 출력한 결과"
      ]
    },
    {
      "cell_type": "code",
      "metadata": {
        "colab": {
          "base_uri": "https://localhost:8080/"
        },
        "id": "oRINkXVTLL-o",
        "outputId": "4bb4d317-40af-4b2d-ecdc-817bf9dbb7a2"
      },
      "source": [
        "print(add(3))\n",
        "print(add(4))"
      ],
      "execution_count": null,
      "outputs": [
        {
          "output_type": "stream",
          "text": [
            "3\n",
            "7\n"
          ],
          "name": "stdout"
        }
      ]
    },
    {
      "cell_type": "markdown",
      "metadata": {
        "id": "wsxQ0tnsMYZD"
      },
      "source": [
        "덧셈 도구 두 개를 사용하고 싶으면 function을 두 번 만들어야 한다"
      ]
    },
    {
      "cell_type": "code",
      "metadata": {
        "id": "aXIXWuaoMEEw"
      },
      "source": [
        "result1 = 0\n",
        "result2 = 0"
      ],
      "execution_count": null,
      "outputs": []
    },
    {
      "cell_type": "code",
      "metadata": {
        "id": "tiGLX33EMg9z"
      },
      "source": [
        "def add1(num):\n",
        "    global result1\n",
        "    result1 += num\n",
        "    return result1\n",
        "\n",
        "def add2(num):\n",
        "    global result2\n",
        "    result2 += num\n",
        "    return result2"
      ],
      "execution_count": null,
      "outputs": []
    },
    {
      "cell_type": "markdown",
      "metadata": {
        "id": "Ff9DqF0WMq40"
      },
      "source": [
        "add1 , add2 라는 이름의 덧셈 함수를 만들어 각각 연산이 따로 진행되는 것을 확인 가능\\\n",
        "function을 이용해 도구를 여러개 만드려면 원하는 만큼 반복해서 function을 def 해주어야 한다"
      ]
    },
    {
      "cell_type": "code",
      "metadata": {
        "colab": {
          "base_uri": "https://localhost:8080/"
        },
        "id": "tDLvJc38MimC",
        "outputId": "fd6f2545-d684-4793-b6bb-93ede48efaea"
      },
      "source": [
        "print(add1(3))\n",
        "print(add1(4))"
      ],
      "execution_count": null,
      "outputs": [
        {
          "output_type": "stream",
          "text": [
            "3\n",
            "7\n"
          ],
          "name": "stdout"
        }
      ]
    },
    {
      "cell_type": "code",
      "metadata": {
        "colab": {
          "base_uri": "https://localhost:8080/"
        },
        "id": "YQCesjFwMorN",
        "outputId": "062b45df-5836-48c6-f130-6b99bf499c91"
      },
      "source": [
        "print(add2(3))\n",
        "print(add2(7))"
      ],
      "execution_count": null,
      "outputs": [
        {
          "output_type": "stream",
          "text": [
            "3\n",
            "10\n"
          ],
          "name": "stdout"
        }
      ]
    },
    {
      "cell_type": "markdown",
      "metadata": {
        "id": "3uXQnnSyNIMo"
      },
      "source": [
        "### **2) Class를 사용해 덧셈 도구 만들기**"
      ]
    },
    {
      "cell_type": "code",
      "metadata": {
        "id": "4CcD5k_qMpvx"
      },
      "source": [
        "class Calculator:\n",
        "    def __init__(self): # 객체(도구) 생성 시 실행되는 초기화 함수(생성자), 여기서는 지역변수 result를 0으로 초기화 한다.\n",
        "        self.result = 0\n",
        "\n",
        "    def add(self, num): # 객체(도구) 생성 후 사용할 수 있는 함수\n",
        "        self.result += num\n",
        "        return self.result"
      ],
      "execution_count": null,
      "outputs": []
    },
    {
      "cell_type": "markdown",
      "metadata": {
        "id": "nxCW1viiNpLq"
      },
      "source": [
        "Class를 선언한 후에는 이를 사용해 객체(도구)를 원하는 대로 선언 할 수 있다\\\n",
        "예를 들어, cal1 이라는 객체(도구)를 아래와 같이 만들 수 있다"
      ]
    },
    {
      "cell_type": "code",
      "metadata": {
        "id": "PX4X1GwiNn0i"
      },
      "source": [
        "cal1 = Calculator()"
      ],
      "execution_count": null,
      "outputs": []
    },
    {
      "cell_type": "markdown",
      "metadata": {
        "id": "XI7gT89BOAkh"
      },
      "source": [
        "마찬가지로, cal2 라는 객체(도구) 또한 간단히 선언 가능하다"
      ]
    },
    {
      "cell_type": "code",
      "metadata": {
        "id": "ISVqOl-QN8vg"
      },
      "source": [
        "cal2 = Calculator()"
      ],
      "execution_count": null,
      "outputs": []
    },
    {
      "cell_type": "markdown",
      "metadata": {
        "id": "y_akTN-MONkq"
      },
      "source": [
        "cal1, cal2 각각 서로 영향을 주지 않고 독립적으로 연산을 하는 것을 확인 가능하다"
      ]
    },
    {
      "cell_type": "code",
      "metadata": {
        "colab": {
          "base_uri": "https://localhost:8080/"
        },
        "id": "tAmgoSThOHWV",
        "outputId": "b5b71626-1ac7-4812-f2e6-32e6545d7d33"
      },
      "source": [
        "print(cal1.add(3))\n",
        "print(cal1.add(4))"
      ],
      "execution_count": null,
      "outputs": [
        {
          "output_type": "stream",
          "text": [
            "3\n",
            "7\n"
          ],
          "name": "stdout"
        }
      ]
    },
    {
      "cell_type": "code",
      "metadata": {
        "colab": {
          "base_uri": "https://localhost:8080/"
        },
        "id": "z2qEMwj6OMru",
        "outputId": "09168e5a-dc10-4746-9035-69218be7df0d"
      },
      "source": [
        "print(cal2.add(3))\n",
        "print(cal2.add(7))"
      ],
      "execution_count": null,
      "outputs": [
        {
          "output_type": "stream",
          "text": [
            "3\n",
            "10\n"
          ],
          "name": "stdout"
        }
      ]
    },
    {
      "cell_type": "markdown",
      "metadata": {
        "id": "EVxX2NcdOc59"
      },
      "source": [
        "Function을 이용해 여러개의 덧셈 도구를 만드려면 매번 새로 선언해주어야 하는 반면, Class를 이용하면 간단히 여러개의 도구를 만들 수 있다"
      ]
    },
    {
      "cell_type": "markdown",
      "metadata": {
        "id": "IBenjx0qOuZz"
      },
      "source": [
        "# **Linear Regression (선형 회귀)**"
      ]
    },
    {
      "cell_type": "markdown",
      "metadata": {
        "id": "d3UAjzsbOuZ0"
      },
      "source": [
        "### **1) Linear Regression의 이론적 배경**"
      ]
    },
    {
      "cell_type": "markdown",
      "metadata": {
        "id": "UZ2_RC3MP8RO"
      },
      "source": [
        "선형 회귀 이론에 대해서 이해하고, 파이토치(PyTorch)를 이용하여 선형 회귀 모델을 만들어본다\n",
        "\n",
        "* **데이터에 대한 이해(Data Definition)**\\\n",
        "학습할 데이터에 대한 정의\n",
        "\n",
        "* **가설 수립(Hypothesis)**\\\n",
        "가설을 수립하는 방법\n",
        "\n",
        "* **손실 함수(Loss function)**\\\n",
        "학습 데이터로 모델을 개선시키기 위한 손실(loss)의 이해\n",
        "\n",
        "* **경사 하강법(Gradient Descent)**\\\n",
        "학습을 위한 핵심 알고리즘인 경사 하강법(Gradient Descent)의 이해"
      ]
    },
    {
      "cell_type": "markdown",
      "metadata": {
        "id": "mnBdnLkRR1Ab"
      },
      "source": [
        "##### **1-1) Data Definition**"
      ]
    },
    {
      "cell_type": "markdown",
      "metadata": {
        "id": "vjVFUr77RyPM"
      },
      "source": [
        "예를 들어 아래와 같은 공부시간 - 점수에 대한 데이터를 통해 선형회귀를 진행한다고 하자"
      ]
    },
    {
      "cell_type": "markdown",
      "metadata": {
        "id": "nqxCkZy4P-cI"
      },
      "source": [
        "![image.png](data:image/png;base64,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)"
      ]
    },
    {
      "cell_type": "markdown",
      "metadata": {
        "id": "x2i9ZeCKR_dC"
      },
      "source": [
        "어떤 학생이 4시간 공부 시 점수는 몇 점인지 알려면 이미 알고 있는 정보를 이용해야한다\n",
        "\n",
        "모델이 예측을 위한 학습에 쓰는 데이터를 Training dataset, 학습한 후 잘 작동하는지 판별하는 데이터를 Test dataset 이라 한다"
      ]
    },
    {
      "cell_type": "markdown",
      "metadata": {
        "id": "iM8-FRzeSw7U"
      },
      "source": [
        "PyTorch를 이용해 모델 학습을 진행 시, tensor의 형태로 dataset을 전달하여 학습한다\n",
        "\n",
        "여기서는 입력(= x = 공부시간), 출력 (= y = 점수)를 tensor 형태로 만들어야 학습이 가능하다"
      ]
    },
    {
      "cell_type": "code",
      "metadata": {
        "id": "j4i4pxefRfBC"
      },
      "source": [
        "x_train = torch.FloatTensor([[1], [2], [3]]) # 입력 데이터 = 공부 시간\n",
        "y_train = torch.FloatTensor([[2], [4], [6]]) # 출력 데이터 = 점수"
      ],
      "execution_count": null,
      "outputs": []
    },
    {
      "cell_type": "code",
      "metadata": {
        "id": "xtMuEL3sTVqt"
      },
      "source": [
        "print(x_train)\n",
        "print(y_train)"
      ],
      "execution_count": null,
      "outputs": []
    },
    {
      "cell_type": "markdown",
      "metadata": {
        "id": "zFTr7MP4Tqd4"
      },
      "source": [
        "학습을 위해 아래와 같은 tensor를 선언했다"
      ]
    },
    {
      "cell_type": "markdown",
      "metadata": {
        "id": "A1ytHyIlTnGS"
      },
      "source": [
        "![image.png](data:image/png;base64,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)"
      ]
    },
    {
      "cell_type": "markdown",
      "metadata": {
        "id": "OO00DD9KT3Yj"
      },
      "source": [
        "##### **1-2) Hypothesis**"
      ]
    },
    {
      "cell_type": "markdown",
      "metadata": {
        "id": "K0SJ1GtnT_3i"
      },
      "source": [
        "머신 러닝에서 데이터 학습, 분석을 위한 식을 세울때 이 식을 가설(Hypothesis)라고 한다\n",
        "\n",
        "보통 머신 러닝에서 가설은 임의로 추측해서 세워보는 식이거나, 혹은 경험적으로 알고 있는 식일 수도 있다\n",
        "\n",
        "맞는 가설이 아니라고 판단되면 계속 수정해나가게 된다\n",
        "\n",
        "선형 회귀의 경우 이미 잘 알려진 식을 Hypothesis롤 사용한다\n",
        "\n",
        "선형 회귀는 데이터와 잘 맞는 직선 식을 찾는 작업이므로, 해당하는 Hypothesis는 아래와 같은 직선의 방정식이다"
      ]
    },
    {
      "cell_type": "markdown",
      "metadata": {
        "id": "EjNu4K_CU75Z"
      },
      "source": [
        "$y= Wx+b$"
      ]
    },
    {
      "cell_type": "markdown",
      "metadata": {
        "id": "G2he4nm6Vn5N"
      },
      "source": [
        "혹은 Hypothesis의 H를 따와 아래와 같이 적기도 한다"
      ]
    },
    {
      "cell_type": "markdown",
      "metadata": {
        "id": "YfuBZ03IVGpz"
      },
      "source": [
        "$H(x)= Wx+b$"
      ]
    },
    {
      "cell_type": "markdown",
      "metadata": {
        "id": "ASfGyJ7wVr6v"
      },
      "source": [
        "이 때, $x$ 와 곱해지는 $W$를 가중치 (weight), $b$를 편향 (bias) 라고 한다"
      ]
    },
    {
      "cell_type": "markdown",
      "metadata": {
        "id": "japV8FE8V9uA"
      },
      "source": [
        "##### **1-3) Loss Function**"
      ]
    },
    {
      "cell_type": "markdown",
      "metadata": {
        "id": "YsQsfJKjXuFs"
      },
      "source": [
        "손실 함수는 여러가지 이름이 있다\n",
        "\n",
        "비용 함수(cost function) = 손실 함수(loss function) = 오차 함수(error function) = 목적 함수(objective function)\n",
        "\n",
        "주로 비용 함수, 손실 함수를 많이 쓴다"
      ]
    },
    {
      "cell_type": "markdown",
      "metadata": {
        "id": "2bj02jVfX6_C"
      },
      "source": [
        "예를 들어 다음과 같은 데이터가 있다고 하자"
      ]
    },
    {
      "cell_type": "markdown",
      "metadata": {
        "id": "2Zep3QymYBEO"
      },
      "source": [
        "![image.png](data:image/png;base64,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)"
      ]
    },
    {
      "cell_type": "markdown",
      "metadata": {
        "id": "MajpQeJtYDu5"
      },
      "source": [
        "이 데이터와 가장 잘 맞는 하나의 직선을 그리고자 한다\n",
        "\n",
        "이를 위해 아래와 같이 세 가지 직선을 그려본다"
      ]
    },
    {
      "cell_type": "markdown",
      "metadata": {
        "id": "ShZ925cZYNSY"
      },
      "source": [
        "![image.png](data:image/png;base64,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)"
      ]
    },
    {
      "cell_type": "markdown",
      "metadata": {
        "id": "c-ab1WRcYO0C"
      },
      "source": [
        "위 세 가지 직선은 각각 서로 다른 $W$와 $b$ 값을 가지고 있다\n",
        "\n",
        "이 세 직선 중 데이터를 가장 잘 반영한 직선은 무엇일까?\n",
        "\n",
        "눈으로 보기에 검정 직선이 가장 잘 반영한 것 같지만, 이를 보다 구체적으로 표현하기 위해 오차(error) 를 사용한다"
      ]
    },
    {
      "cell_type": "markdown",
      "metadata": {
        "id": "lgAwwmsyYmPX"
      },
      "source": [
        "![image.png](data:image/png;base64,iVBORw0KGgoAAAANSUhEUgAAAd0AAAEcCAIAAAAN6/koAAAgAElEQVR4Ae2dbWwU15rnrbn30+6OlPtp82F3Fo1mNR8n3yaajKJYQitG6KJEKyRaVhhaCZNsRcpmPcqGLK3xCvAaxlOyApeM3UZUyAKLgOup5BLGIYMJrmAc45dcC3xNwQDDhQEM1+23pm13t8/qUKRo2nZ39VNv51T9WygpV50653l+/8d/itN9TtcxvEAABEAABEQiUCdSMIgFBEAABECAwZdRBCAAAiAgFgH4slh6IBoQAAEQgC+jBkAABEBALALwZbH0QDQgAAIgAF9GDYAACICAWASC9mXDMBIlr1QqxRizTyqKIhYeRAMCIAACgRMI2pdLE9SevBhjiqIYhsEYU1VV07TSNjgGARAAgbgRCNOXE4mEaZqGYdiPyYZhWE/QcZMB+YIACICATSA0X9Z1XVVVaxLD9mLTNG2PtkPEAQiAAAjEikBovmzPXZQ+Izv05bGxsat4gQAIgIDwBH77298S/kYJx5fL5i7sZ+RSj66QzLlz5ypcxaWACVy9ejXgETFcBQKQowKc4C/R5AjHl1OplK7rNqNEIlHT+37wZRudCAe0yhMh8kjGADmEkpUmRwi+bJpmIpEoZafruvXZOXuiufTq8mP48nImIZ6hVV6IAUd7aMghlL40OULwZffU4MvuGXrYA63yPAwAXZUSgBylNEI/pskBXw5dOOkDoFWe9GmLmgDkEEoZmhzwZaFElDIYWuVJmaoMQUMOoVSiyQFfFkpEKYOhVZ6UqcoQNOQQSiWaHPBloUSUMhha5UmZqgxBQw6hVKLJAV8WSkQpg6FVnpSpyhA05BBCpWJh8Xp/9nTrxP/5r4R44MsEaLjlOQIwgudwhP0D5AhRgaXczMIPX82e3D7Z/Or0geTjM58u/Kf/yDKZWkOCL9dKDO3LCcAIyomE+jPkCB5/4Xe3c31HZj57d7L51dmjjfODXUvZJ17c1sbq6lhTU60hwZdrJYb25QRgBOVEQv0ZcgSGP39rJHtm79Qnb2Ra18192bxoXljKLzwbPZdjL77IffmFF2p9ZIYvP8OIIxoBGAGNm093QQ6fwFrdLi1kFy5/M9fVNNlSP93e8LinPX/nysojWg/LdXWER2b48spIcdY5ARiBc1YBtIQcfkAuTt+fHzgx8/l7k82vznz+3vzAieL0/UoD5fPs5ZfZmjXclNesYS+9xHK5Su2fvwZffp4HfqqdAIygdmY+3gE5PISbv3Pl8T/tn9q/abKlfk7fsTDWs7SQra3/OorHUu6pLSwfWmN/DB+g0ruEEdDZ+XAn5HAJdSm/sDjeO6fvyLSum9q38fE/7c/fGqH3CV+ms8OdLgjACFzA8/5WyEFjWpx9ND/YNXu0kc9UfPZuru9I4Xe3aV09dxd8+Tkc+CEoAjCCoEg7GgdyOML0Y6PCg2uPv+2cPpDkH3E7uX1htLvmmYofu1r5//DllbngrM8EYAQ+A66te8hRnZe1GO/U7oy6fqptQ7a7bfHGJVYsVL/ReYt8nr3+OnvtNf6+32uvsbVr2eys87sxv+ycFVquTABGsDKXkM5CjtXAL2UzfDHe8W3WYrxc78HCw5urNfbgfFMTN2Xrz5YtNXUIX64JFxqvQABGsAKU8E5BjjL2fDHed4dmDm7lMxXHPlz44auni/HK2nn+YybDV5TU1bGf/pRdu1ZT9/DlmnCh8QoEYAQrQAnvFOTg7IsFvhivu22qbUOmdV321O7F6/3PLcYLRiDrkbnGh2XGGHw5GH2iPAqMQCh14ywHX4w32s23DWqpn05vfvxtZ+HeeJjqZDKFn/2s1odl+HKYkkVm7DgbgYAixlCOYuZurv+YtW3QzOH35we7irOPQpdmdGjo4/TZ5v/12UedZ0eHhmqKB8/LNeFC4xUIxNAIVqAgzKn4yJG/PcoX4+3bmNmzdk7fsTjeG8JMxSq6jw4NJdMjDZ1XrD9vpwcH+i6u0naF0+H4ciqVSjx5aZrGGDMMw/pRUZQVYlx2Cuv9liEJ80R8jCBMyo7HjrYcS/mFhbEevhhvz9qp/Zv4Yrzbo47ZBNfw4/RZ25Stg8aO886HD8GX1Sev0hAVRTEMgzGmqqrl1KVXlx/Dl5czCfFMtI0gRLC0oSMpB982aLBr5vD7Txfj9R+rsm0QjZ13d72T/r7Ml99M1/D3Rwi+nEgkStM3DMN+TDYMI5VKlV5d8Ri+vCKWsE5G0gjCgul+3CjJUbg3zhfjtTdMttTzxXiXv/F4MZ573Kv08FG6p8yXP+jgj54OX0H7smma1pSF9V/jycv2YtM0bY+ukAB8uQKc4C9FyQiCp+f5iLLLwbcNut4/92Uz3zaobUP2zF6+bZC3i/E8h76sw4G+i291DtnW/FZ68MJ5sX3Zdl5d11OpVOkzsnNfvooXCIBAhAhcGx28dbrjXzvffbTzz+//ouH2P/zdtcHzUufX/atT/6P92y2dv/6gw6jJlMP5nJw9j2G5MOYxlv1dK9kJ2R/QJMNdLVy55Cg8vJnrPci3Ddr5yuzxbXwxXm6mWooyXafJEfQ8BmPMfpdP0zRVVRljiUQC7/vJVGvPx0qrvOf7wE+eEZBAjmJh8cal7OlWvhhPXZ893bp4vV+6mQqHgtHkCMGXl38qTtd1a7rZnmiunDPmlyvzCfgqrfICDjI+wwkrx1Juhm8bdHK7tW0QX4z3oLZdI2QUkSZHCL7sHi582T1DD3ugVZ6HAaCrUgKiycG3Deo7Yi3Gmz3aOD/YFdC2QaVQwjumyQFfDk+xqIxMq7yoZC9cHoLIkb81whfjffJGpnUdX4xnXhBnMV6QmtHkgC8HqVE0x6JVXjRZCJBViHLwbYPGeua6mvi2Qe0Nj3va83euCIAkzBBocsCXw9QsGmPTKi8auQuYRfBy8MV4AydmPn+PL8b7/L35gROCL8YLUjWaHPDlIDWK5li0yosmCwGyCkyO/J0rj3vap/Zvmmypn+tqWhjrkWUxXpAq0eSALwepUTTHolVeNFkIkJWvcvDFeOYFvm1Q67qpfRv5tkG3RgRIWtwQaHLAl8VVVJbIaJUnS3bSxemHHMXZR/ODXbNHG59uG9R3pPC729KRCSVgmhzw5VDEitSgtMqLFAKRkvFQjsKDa3zboANJ/s14J7fzxXgLWZFylSAWmhzwZQmkFTxEWuUJnpS84bmVo1hYvN6fPd2aUdfzbYO62xZvXIrqYrwAVKbJAV8OQJqID0GrvIhDCS89mhxL2QxfjHd8m7UYL9d7sPDwZnhJRGdkmhzw5ehUQFiZ0CovrGgjP25NcvDFeN8dmjm4lc9UHPtwfviLWC3GC6AYapLDjge+bKPAAZEArfKIg+G2agSqy1Es5G+NZM/s5dsGta6b+7J58Xp/PBfjVWPpwfXqcqw0CHx5JSo4VwsBWuXVMgLa1kBgNTn4YrzRbr5tUEv9dHoz3zbo3ngN/aIpicBqclTuDL5cmQ+uVidAq7zq/aIFiUCZHMXM3Vz/MWvboJnD788PdmExHokr8aYyORz2Al92CArNViVAq7xVu8MFdwQsOfK3R/m2Qfs3ZfasndN38MV4+QV3HeNuCgHabwd8mcIa95QSoFVeaQ849oTAUn5hYazn3t53M3vWTu3fxBfj3a7hO5g9iQGdlBGg/XbAl8sw4seaCdAqr+ZhcMMqBPi2QYNdM4ff55+p6Nya/w//vnjrN6u0xemgCdB+O+DLQesUvfFolRc9DgFnVLg3zhfjpTdPttTzxXij3XwxXlsbq6tjTU0BB4PhViNA++2AL6/GE+edEqBVntPe0a6EAN826Hp/9tRuvm1Q24bsmb1826Bi4WmTXI69+CL35RdeYJlMyX04DI0A7bcDvhyaYJEZmFZ5kUk/gESWspn54S9mj33Itw06uDX33aGVtw2yHpbr6vDIHIAoDoeg/XbAlx3iRbNVCdAqb9XucOFHAoWHN3O9B59uG3R8G982KLv6U3A+z15+ma1Zw015zRr20kssl/uxJ/w/NAK03w74cmiCRWZgWuVFJn2PEykWFm9cyna38cV46vrs6dbF6/3PZiqcDFYn5S+1k8xkbEP77QhBQkVREj++TNNkjBmGYZ1QFMUJenwfthNKgbWhVV5g4UkxEF+M98NXfDFe86vTB5J8Md6Da8TI4ctEcL7cRvvtCMeXLTu2MSiKYhgGY0xVVU3T7POrHcCXVyMT8PnRoaGP02f/quP7jzrPjg4NBTx6BIbj2wb1HbEW480ebeSL8WYfuc0LvuyWoJf3y+rLhmHYj8mGYaRSqapU4MtVEQXQYHRoKJkeaei8Yv15Oz040HcxgHEjMET+1ghfjLdvI982SN+xaF7wcjEefFmkEpHJl0tnLUq92DRN26MrsIUvV4AT2KWP02dtU7YOGjvOBza6dAPxmYqxnrmupsmWer4Yr6c9f+eKL1nAl33BSuxUGl+280ulUpqm0Xz5Kl5hE/irju/LfPnN9GjYQQk3/rWRvn/51S/u/f2WRzv//N7fb/mXX/3i2kifr1Gyujpf+0fntRKwHc/5QQjzy3Zwuq6rqop5DBuIXAcfpXvKfPmDDv4mAV6MsfydK4972qfbGyZb6ue6mvi2QYF9Mx6el0UqQSmfl3VdZ4wlEgm87ydSLTmKZaDv4ludQ7Y1v5UevHA+1r7MF+OZF+b0HXwx3idv8G2Dbo04QultI/iytzzd9SaHL5um+eNn5BKqqlop67punXTyph9jDPPL7krFs7sH+i42dpz/73939oMOI7amzBfjDXbNHm3ki/E+ezfXd2TlxXieUa/WEXy5GqEgr8vhy54QgS97gtGbTnK5hT/8wxjuxlB4cI1vG3QgyXdxO7mdL8bLzXiD1GUv8GWXAD29Hb7sKU505pBArDYwKxb4tkGnWzPqer5t0OnWxRuXaluM55Cqm2bwZTf0vL4Xvuw1UfRXlUA8NjBbys3wxXjHt03ufGX6QDLXe7Dw8GZVNqE1gC+Hhn6FgeHLK0DBKX8JRHoDM74Y77tDMwe38pmKYx/OD39Radsgf0HX0jt8uRZafreFL/tNGP0/TyCSG5gVC/lbI9kze/m2Qa3r5r5sXrze7+VivOcR+vITfNkXrMRO4ctEcLjNLQH5jYAvxrv8Dd82qKV+ur2Bbxt0b9wtlrDul1+OsMj5MS582Q+q6NMBAWmNoDh9P9d/zNo2aObw+3zboOn7DhIWu4m0coiNlRgdfJkIDre5JSCbEeRvj/Jtg/ZvyuxZO6fv4Ivx8gtuIYhzv2xyiEPOj0jgy35QRZ8OCMhgBHwx3ngvX4y3Z+3Uvo18Md7tUQe5SdhEBjkkxEoMGb5MBIfb3BIQ2AiKs4/mB7tmDr//dDFe/7Fi5q7bfAW/X2A5BCfnR3jwZT+ook8HBMQzgsK9cb4YL715sqWeL8Yb7Q5u2yAHwPxtIp4c/uYrdu/wZbH1iXB0YhgBn6m43p89tZtvG9S2IdvdxrcNKhYiDH7l1MSQY+XY4ncWvhw/zQXJOFQjWMpm+GK8Yx/ymYqDW3PfHQp526DQRQlVjtCzFy0A+LJoisQmnjCMoPDwZq734NNtg45v49sGZTOxIb5Sorkce/tttmULq6vj/92yhc3OrtQO5wIlAF8OFDcGe0YgMF8uFhZvXMp2t/HFeOr67Kndi9f74zhT8Qz980eWKdfVcWt+/fXnr+GncAjAl8PhjlG5C/j54ovxRrv5YrzmV6fTm/livAfX/BxQ2r6vXWM//SmXo66OjYSxJb+05PwLHL7sH1v0XJGAP77Mtw3qO2Itxps92sgX480+qhgHLrKn8xh4WBamFuDLwkgRt0A89eX8rRG+GG/fRr5tkL5jcbw3Uovx/K6Na9eWfvITPCz7jdl5//Bl56zQ0lMCrn2Zz1SM9czpOyZb6qf2b+KL8e5c8TTEWHQ2OjT0cfps+zstH3WeHR0aikXOwicJXxZeoqgGSPXl4vT9+YETM5+/xz/i9vl78wMnorBtUEgqjw4NJdMj9tfgvp0eHOi7GFIsGPYZAfjyMxY4CpRAjb6cv3PlcU/7dHvDZEv9XFfTwuVvYrQYzzdhPk6ftU3ZOmjsOO/baOjYKQH4slNSaOcNgXye/dEfPX33v66OvfBChQ/M8sV45oW5L5v5YrxP3sie2csX4+HlHYF30t+X+fKb6YhuzOQdtAB6ksyXlScvi4thGIknL0VRnJDC92E7oRREG0175stNTctHXMpm5ge7Zo82Pt02qO9I3BfjLWfk0ZmP0j1lvvxBh+FR3+iGTkAmX9Z1XVVV24UVRTEMXkOqqmqaVpUBfLkqooAa2I/ML7zAMs+W2xUeXOPbBh1I8m/GO7mdL8bLzQQUUlyHGei7+FbnkG3Nb6UHL5yHL4dfDTL5sqIopmlavmwYhm3QhmGkUqmqLOHLVREF18B6ZG5qYsUC3zbodOtU2wa+bdDpVizGC06FJyMN9F1s7Di/pfPXH3QYMOWA4a82XGi+bJrmrl27ksnkrl27GGOmaVZ+5lVVVdf1Ul+2vdg+uVqS1nn4cmU+QV5dmp1c+M9r5g799eTOV6YPJHO9BwsPbwYZAMYqI0AzgrJO8KNXBGhyeLCCVlGUXbt2aZpm2WvlZ177qm3B9hnL0+1n5wpc4MsV4ARziS/G++7QzMGtk82vPmjbMj/8Rdy3DQqGu4NRaEbgoGM0oRCgyeHWl+1ZCNte7YMVk9A0zXqLz/6v3QNjrPK9dofnzp27ilfgBMzx39wwvvztsf890br+Ycvau//3f948d/zq2OXAA8GAICATAdu4nB944Mtlj8kOvdV+XmaMJRIJvO/nXLOAW/LFeJe/metqmmypn25v4NsG3RsvjYH2RFDaA449JAA5PITpviuaHG59eWJiIplMGk9elkHv2rXr008/rZpPqS/rum49PtsTzZVvxzxGZT6eXC1O38/1H7O2DZo5/D7fNmj6/oo90ypvxa5w0j0ByOGeoYc90ORw68uMMctVkz++FEWZmJjwMLHlXcGXlzPx6kz+9ijfNmj/psyetXP6joWxnqqL8WiV51XA6KeMAOQoAxLujzQ5PPBl+zMYmqbpuu63KTPG4MvelhpfjDfeO6fv4Ivx9m3k2wbdrmGpGK3yvE0BvdkEIIeNQoQDmhxufXliYkLTNNM0g0QAX/aEdnH20fxg18zh9yd3vjLz2bu5/mPFzF1Cz7TKIwyEW5wQgBxOKAXWhiaHW1+2llAHlqQ1EHzZDfDCvXG+GC+9ebKlni/GG+2uOlNReTha5VXuE1fJBCAHGZ0fN9LkcOvLExMTiqIcPXrUj5RW6xO+vBqZ1c7zmYrr/dlTuzPqer4Yr7tt8cYlr74Zj1Z5q4WK8y4JQA6XAL29nSaHW182TVNV1UQikSp5Ofk8hpvk4csO6S1lMws/fDV77EP+zXgHkrnvDvmxbRCt8hymgGa1EoActRLztT1NDg98WVv20nXd11Thy5Xx8sV4vQefbht0fBvfNij7bFOhyvcSrtIqjzAQbnFCAHI4oRRYG5ocbn05sPRKB4Ivl9J4elwsLN64lO1um2rbkFHXZ0/tXrzeH8w349Eqb4UUcMoLApDDC4qe9UGTwxtf1nXdmsb49NNPA/hsBnzZrhq+GG+0e/bkdj5Tkd7MF+M9uGZfDeaAVnnBxBbDUSCHUKLT5PDAl1VVTSaTli8ripJMJv22ZvhyMXM313eEL8bb+crs0Ua+GG/2UVjlSKu8sKKN/LiQQyiJaXK49WXTNBOJxPDwsM3C4Tpsuz3hILa+nL81whfj7duYaV03p+9YHO8NZqaiska0yqvcJ66SCUAOMjo/bqTJ4daXl+9StPyM59nGypf5TMVYD1+Mt2ft1P5NfDHenSueI3XTIa3y3IyIeysQgBwV4AR/iSaHW18eHh4u2zH566+/drj9EJlRHHy5OH2fL8b7/D3rm/HmB06stm0QGaNXN9Iqz6vR0U8ZAchRBiTcH2lyuPVlxpiiKKqqWnPKX3/9dQDLTCLsy3wxXk/7dHvDZEv9XFfTwuVvXC7GC6AoaZUXQGDxHAJyCKU7TQ4PfNl6ZLb3uff7YTl6+xbxxXjmhbkvm/m2QZ+8kT2zN39rRKjaqhwMrfIq94mrZAKQg4zOjxtpcnjgy1Yy1hbMfn8SwxorGs/LS9nM/PAXs0cb+UzFwa25viN+LMbzo9TK+qRVXlkn+NErApDDK5Ke9EOTwwNfHh4ethf4maYZwF4ZUvty4eFNvm3QgeRk86t826AfvlrKzXhSAWF1Qqu8sKKN/LiQQyiJaXJ44MvJZLLsc3J+W7N8vlws8G2DTrdOtW3g2wadbl283u/VtkGhVyGt8kIPO6oBQA6hlKXJ4daXl38qbvkZzzHJ4stLuRm+bdDJ7ZM7X5k+kOSL8R7e9JxG6B3SKi/0sKMaAOQQSlmaHG59efnn5Kw12b6iEdyX+bZBfUdmDm7lMxVHG+eHv/B12yBfUTvpnFZ5TnpGGwIByEGA5t8tNDnc+jJjrLGxMZVK6bpuGIamaclk0p5u9ilbEX25WMjfGsme2Tv1yRt8Md6XzYvmBREW4/kkQWm3tMor7QHHHhKAHB7CdN8VTQ4PfHliYmLXrl3W5+SSyaSmae6TqdyDOL7MF+Nd/mauq2mypX66veFxT3vh3njl4KN3lVZ50eMgSEaQQxAhrDBocnjgy7VSsL4/29pK37rX+jKqRCJRtnRwtZ5D92W+GG/gBN82qPnVmc/f49sGTd9fLdrIn6dVXuSxhJUg5AiL/Irj0uRw68sTExP2hzGGh4c1Tav6YQx74YmiKIZhWCsGrQNVVZ08bofly/nbo3zboP2bMnvWzuk7FsZ6xF+Mt2KteHuSVnnexoDebAKQw0YhwgFNDre+XPrpC0VRGhsbnc8vJxIJ0zQNw7Afk0t7q8A0SF/mi/HGe/m2Qa3rpvZt5NsGSbUYrwJGry7RKs+r0dFPGQHIUQYk3B9pcnjmy7a9Vt23yJ7HsN4eLPVi0zRtj65AMwBfLs4+mh/s4ovxdr4y89m7ub4jxczdCiHF+RKt8uJMzNfcIYeveGvtnCaHW1+2PidnvfVnTUGU+mzlHBRFsT7FYc9shO7LfNugbzun05snW+r5YrzRbsxUVBaRMUarvKrdogGNAOSgcfPpLpocbn2ZMWZ9H3YymZyYmGCMOfdlXddVVbUftJ3fe+7cuasevsYu3/j25N3D2yZ2/5eHf/sXd/7f39zo/Qdz/DcejoCuQAAEYkuA4Pge+DJjbHh42DJlxljpO4HLAzJNU1VV63wqlbIesROJRPDv+y1lM3wx3vFt/JvxDiRzvQcl3TZoOeSAz9CeCAIOMj7DQQ6htKbJ4Y0v1wQilUpZH3a2DdqecbYnNCp36GZ+mS/G++7Q022Djm/j2wZlM5WHw9XKBGiVV7lPXCUTgBxkdH7cSJMjBF92n3zNvlwsLN64lO1um2rbkFHXZ0/tXrzeH5PFeO5pV+2BVnlVu0UDGgHIQePm0100OaLsy3wx3mg33zaopX46vZlvGxS/xXg+VVtpt7TKK+0Bxx4SgBwewnTfFU0OKX35wi9/WYFXMXM313+ML8bb+QrfNmiwqzj7qEJ7XHJJgFZ5LgfF7asRgByrkQnlPE0OCX05l8v+wR+wTPmkcP7WCF+Mt28j3zZI37E43ouZimAKkVZ5wcQWw1Egh1Ci0+SQ0Jfb2lhdHWtqYozxmYqxHr4Yb8/aqf2b+GK826NCqRKHYGiVFwcyoeQIOULBvtqgNDlk8+Vcjr34Ivfl3/+3sx3v8G2DPnt3fuBEnLcNWq0gAjtPq7zAwovbQJBDKMVpcsjmy9bDcl0dq6sr/Lc3sRhPhBKkVZ4IkUcyBsghlKw0OaTy5XyevfwyW7OGPy+vWcNeeonlckJpEM9gaJUXT1YBZA05AoDsfAiaHFL5sg2jTs6w7fijdUCrvGgxECgbyCGQGNTdY6QyuHx++rXX/vmP/4TV1f3zH//J7J/+KZudFUqDeAYDIxBKd8gRATlk8uXRoSH95+/wSYwnfy782c8H+i4KpUE8g4ERCKU75IiAHDL58sfps1s/6c/+m9/nb/r93k8am/+xseO8UBrEMxgYgVC6Q44IyCGTL7+T/r6h88ovf66wurrzf/Z6Q+eVN9P4tHL4RQgjCF+DkgggRwmM8A9pcsjkyx+lexo6r2z9pH/m3/2ssfkfGzqvfNDBvx4Qr3AJ0Cov3JgjPDrkEEpcmhwy+fJA38W3OocaOq+kth9v6LzyVnrwwnn4cvhFSKu88OOOaASQQyhhaXLI5MuMsYG+i40d5/8y/esPOgyYsiD1R6s8QYKPXhiQQyhNaXJI5ssW8Zr3XxZKqMgFQ6u8yGEQJSHIIYoST+KgyQFfFkpEKYOhVZ6UqcoQNOQQSiWaHPBloUSUMhha5UmZqgxBQw6hVKLJAV8WSkQpg6FVnpSpyhA05BBKJZoc8GWhRJQyGFrlSZmqDEFDDqFUoskBXxZKRCmDoVWelKnKEDTkEEolmhwh+LKu64knr1QqZRE0DMM6oyiKE6b4PIYTSoG1oVVeYOHFbSDIIZTiNDlC8GXbjhVF0XWdMaYoimHwFSKqqmqaVhUrfLkqoiAb0CovyAhjNRbkEEpumhwh+LJNTVVVXdcNw7Afkw3DsF3bbrb8AL68nEmIZ2iVF2LA0R4acgilL02OMH05kUiYplnqxaZp2h5dAS58uQKc4C/RKi/4OGMyIuQQSmiaHKH5sj1lAV8WqowIwdAqjzAQbnFCAHI4oRRYG5oc4fiypmmqqlpoaPMYV/ECARAAARkIEP4OCMGXNU0rm0ROJBJ4348gniC30J4IBAk+emFADqE0pckRtC+bpml9JK70o3LLPzlXmSzmlyvzCfgqrfICDjI+w0EOobSmyRG0L3uCDL7sCUavOqFVnlejo58yApCjDEi4P9LkgC+Hq1oURqdVXhQyFzIHyCGULDQ54MtCiShlMLTKkxo42g8AAAnwSURBVDJVGYKGHEKpRJMDviyUiFIGQ6s8KVOVIWjIIZRKNDngy0KJKGUwtMqTMlUZgoYcQqlEkwO+LJSIUgZDqzwpU5UhaMghlEo0OeDLQokoZTC0ypMyVRmChhxCqUSTA74slIhSBkOrPClTlSFoyCGUSjQ54MtCiShlMLTKkzJVGYKGHEKpRJMDviyUiFIGQ6s8KVOVIWjIIZRKNDngy0KJKGUwtMqTMlUZgoYcQqlEkwO+LJSIUgZDqzwpU5UhaMghlEo0OeDLQokoZTC0ypMyVRmChhxCqUSTA74slIhSBkOrPClTlSFoyCGUSjQ54MtCiShlMLTKkzJVGYKGHEKpRJMDviyUiFIGQ6s8KVOVIWjIIZRKNDngy0KJKGUwtMqTMlUZgoYcQqlEkwO+LJSIUgZDqzwpU5UhaMghlEo0OeDLQokoZTC0ypMyVRmChhxCqUSTA74slIhSBkOrPClTlSFoyCGUSjQ54MtCiShlMLTKkzJVGYKGHEKpRJMDviyUiFIGQ6s8KVOVIWjIIZRKNDnC8WVN0xKJhGmaFkHDMBJPXoqiOGGK78N2QimwNrTKCyy8uA0EOYRSnCZHCL6sqqqmaYqi2L6sKIphGIwx61JVrPDlqoiCbECrvCAjjNVYkEMouWlyhODLFjXblw3DsB+TDcNIpVJVscKXqyIKsgGt8oKMMFZjQQ6h5KbJIYQv215smqbt0RXgwpcrwAn+Eq3ygo8zJiNCDqGEpskBXxZKRCmDoVWelKnKEDTkEEolmhxC+LL9jOx8HuMqXiAAAiAgAwHC3xPh+zJjLJFI4H0/gniC3EJ7IhAk+OiFATmE0pQmRwi+nEqlrE/FJRIJVVUZY7quW2fsiebKZDG/XJlPwFdplRdwkPEZDnIIpTVNjhB82T01+LJ7hh72QKs8DwNAV6UEIEcpjdCPaXLAl0MXTvoAaJUnfdqiJgA5hFKGJgd8WSgRpQyGVnlSpipD0JBDKJVocsCXhRJRymBolSdlqjIEDTmEUokmB3xZKBGlDIZWeVKmKkPQkEMolWhywJeFElHKYGiVJ2WqMgQNOYRSiSYHfFkoEaUMhlZ5UqYqQ9CQQyiVaHLAl4USUcpgaJUnZaoyBA05hFKJJgd8WSgRpQyGVnlSpipD0JBDKJVocsCXhRJRymBolSdlqjIEDTmEUokmB3xZKBGlDIZWeVKmKkPQkEMolWhywJeFElHKYGiVJ2WqMgQNOYRSiSYHfFkoEaUMhlZ5UqYqQ9CQQyiVaHLAl4USUcpgaJUnZaoyBA05hFKJJgd8WSgRpQyGVnlSpipD0JBDKJVocsCXhRJRymBolSdlqjIEDTmEUokmB3xZKBGlDIZWeVKmKkPQkEMolWhywJeFElHKYGiVJ2WqMgQNOYRSiSYHfFkoEaUMhlZ5UqYqQ9CQQyiVaHLAl4USUcpgaJUnZaoyBA05hFKJJgd8WSgRpQyGVnlSpipD0JBDKJVocsCXhRJRymBolSdlqjIEDTmEUokmB3xZKBGlDIZWeVKmKkPQkEMolWhyCOHLhmEknrwURXHC9Ny5c06aoU0wBGiVF0xsMRwFcgglOk0OIXxZURTDMBhjqqpqmlYVK3y5KqIgG9AqL8gIYzUW5BBKbpoc4fuyYRj2Y7JhGKlUqipW+HJVREE2oFVekBHGaizIIZTcNDmE8GXbi03TtD26Alz4cgU4wV+iVV7wccZkRMghlNA0OaT05ZGRkXN4gQAIgIDwBMbGxgh/Twjhy/YzssN5DEKeuAUEQAAEZCEQvi8zxhKJRE3v+8kCF3GCAAiAAIGAEL6s67r1OTl7opmQCW4BARAAgWgQEMKXo4ESWYAACICAJwTgy55gRCcgAAIg4BkB+LJnKNERCIAACHhCAL7sCUZ0AgIgAAKeEYAve4YSHYEACICAJwTgy55gRCcgAAIg4BkB+LJnKNERCIAACHhCQDJfNk3T+qRzIpHwJH904oZArRu0uhkL9zokkEql8NvhkJWvzRRFsc3KNM2axpLMl1VVtTJUn7xqShWNPSdgrwNKpVK6rnvePzqslYBhGKqqwpdr5eZHe0VRarVjOwzJfNmOW9d1VVXtH3EQLgF7B+1ww8Do1lYz8GURKiGOvowHNBEqz57HcPJtBiIEHO0YtCcva8OZaGcqRXb2PIa9L5vzsKV8XtZ13f4XtPNU0dI/AqlUCtbsH14nPZfuXY7nZSfEAmtD+O2Qz5dLv98kMLIYqDIBbNBamU8AV+3Nv8jvNQUQZDyHIEy6SubL1j+c46mugFnb/2rB27BCqYPnZaHkIEy6SubL9pSN9VAgFP0YBmO99Z9IJGyDjiEEAVOGL4cuSuknegmfUJDMl0PHjQBAAARAwG8C8GW/CaN/EAABEKiNAHy5Nl5oDQIgAAJ+E4Av+00Y/YMACIBAbQTgy7XxQmsQAAEQ8JsAfNlvwugfBEAABGojAF+ujRdagwAIgIDfBODLfhNG/yAAAiBQGwH4cm280BoEQAAE/CYAX/abMPoHARAAgdoIwJdr44XWIAACIOA3Afiy34TRPwiAAAjURgC+XBsvtJaCgLXppRShIkgQWE4AvrycCc5ITwC+LL2E8U4Avhxv/SOaPXw5osLGJS34clyUjlWe8OVYyR29ZOHL0dMUGTHLl+2vhS374svSb1cwDMPipWlaaTP7G1isDc6tDq395jVNs7+ryb4d0EHAQwLwZQ9hoitRCFg2an+LiqIo9ndGlB7b9s0Yq+zL9jeAWDZtmqYoqSKOKBKAL0dR1djnZBmujUFVVcujy84zxhRFsb7Ju7Iv28/F9uOz3TkOQMBzAvBlz5Giw/AJlPmvpmm2L5dOVjDGUqmU9Sjt0JcZY/ZXt9nP4+EnjAiiRQC+HC09kc0TAhV82Z6RsFDZz8u6rpdadtn8sv28XAq4dEqk9DyOQcAlAfiyS4C4XUQCq/kyYyyRSNhzzVYza7LYepPQ8l/rvNXMejpe0ZdTqZQ1ByIiAsQkMwH4sszqIfZVCFTwZXsWwvpMRek7eKqqWictw13Rl62e7WarjI/TIOCKAHzZFT7cDAIgAAKeE4Ave44UHYIACICAKwLwZVf4cDMIgAAIeE4Avuw5UnQIAiAAAq4IwJdd4cPNIAACIOA5Afiy50jRIQiAAAi4IgBfdoUPN4MACICA5wTgy54jRYcgAAIg4IoAfNkVPtwMAiAAAp4TgC97jhQdggAIgIArAvBlV/hwMwiAAAh4TgC+7DlSdAgCIAACrgjAl13hw80gAAIg4DkB+LLnSNEhCIAACLgiAF92hQ83gwAIgIDnBODLniNFhyAAAiDgigB82RU+3AwCIAACnhOAL3uOFB2CAAiAgCsC8GVX+HAzCIAACHhOAL7sOVJ0CAIgAAKuCPx/ihjBTTCjMN4AAAAASUVORK5CYII=)"
      ]
    },
    {
      "cell_type": "markdown",
      "metadata": {
        "id": "eLYhOH5UYoVc"
      },
      "source": [
        "위 그림에서, 빨간 화살표들은 실제 데이터 포인트와 선형 회귀를 통해 얻은 직선(예측값들의 모임) 사이의 차이를 나타낸다\n",
        "\n",
        "이 예시에서 주황 직선은 $y = 13x + 1$ 이고, 전체 error = (실제 - 예측) 는 다음과 같이 계산된다"
      ]
    },
    {
      "cell_type": "markdown",
      "metadata": {
        "id": "acN1pODNZeqQ"
      },
      "source": [
        "|hours($x$)|2|3|4|5|\n",
        "|----------|-|-|-|-|\n",
        "|실제 값    |25|50|42|61|\n",
        "|예측 값    |27|40|53|66|\n",
        "|$error$  |-2|10|-11|-5| "
      ]
    },
    {
      "cell_type": "markdown",
      "metadata": {
        "id": "UbAjlFpzeD2I"
      },
      "source": [
        "우리는 각 오차의 값보다, 모든 데이터에 대한 오차의 절대적인 크기가 작아지기를 원한다\n",
        "\n",
        "따라서 아래와 같은 식으로 모든 데이터 포인트에 대한 절대적인 오차 크기의 평균을 구할 수 있다\n",
        "\n"
      ]
    },
    {
      "cell_type": "markdown",
      "metadata": {
        "id": "Tj4bIQk-eWmG"
      },
      "source": [
        "$\\frac{1}{n} \\sum_{i=1}^{n} \\left[y^{(i)} - H(x^{(i)})\\right]^2 = 250 / 4 = 62.5$"
      ]
    },
    {
      "cell_type": "markdown",
      "metadata": {
        "id": "5UbN_xuOecyS"
      },
      "source": [
        "여기서 n은 데이터 포인트의 개수( = 4) 이다\n",
        "\n",
        "이런 방식으로 구한 오차를 평균 제곱 오차 (Mean Squared Error , MSE) 라고 한다\n",
        "\n",
        "따라서, 우리는 이 MSE값을 최소로 만드는 $W , b$ 값을 찾아 이를 이용해 직선의 방정식을 구하면 된다"
      ]
    },
    {
      "cell_type": "markdown",
      "metadata": {
        "id": "xoakCXRafX_g"
      },
      "source": [
        "$loss(W, b) = \\frac{1}{n} \\sum_{i=1}^{n} \\left[y^{(i)} - H(x^{(i)})\\right]^2$"
      ]
    },
    {
      "cell_type": "markdown",
      "metadata": {
        "id": "SZyXWCESfaVo"
      },
      "source": [
        "손실함수 $loss(W,b)$ 를 위와 같이 정의하면, 우리의 작업은 이 손실 함수가 최소값이 되게 만드는 $W, b$ 를 구하는 것으로 정의할 수 있다\n",
        "\n",
        "이는 아래에서 설명할 Gradient Descent를 사용하여 구할 수 있다"
      ]
    },
    {
      "cell_type": "markdown",
      "metadata": {
        "id": "s4DKflg3gBY3"
      },
      "source": [
        "##### **1-4) Optimizer (Gradient Descent)**"
      ]
    },
    {
      "cell_type": "markdown",
      "metadata": {
        "id": "mBCqBRMJgYI4"
      },
      "source": [
        "이제 $loss(W,b)$를 최소로 만드는 $W, b$ 값을 찾는 방법에 대해 알아본다\n",
        "\n",
        "ML, DL에서는 이를 위해 Optimizer(최적화) 알고리즘을 사용한다\n",
        "\n",
        "모델이 Optimizer 알고리즘을 통해 가장 적절한 $W, b$를 찾는 과정을 학습(training) 이라고 부른다\n",
        "\n",
        "여기서는 가장 간단한 Optimizer인 경사 하강법 (Gradient Descent) 에 대해서 알아본다"
      ]
    },
    {
      "cell_type": "markdown",
      "metadata": {
        "id": "XxkZbwP7gJIn"
      },
      "source": [
        "보다 문제를 간단히 만들기 위해, 우리의 Hypothesis를 원점을 지나는 직선으로 가정하자\n",
        "\n",
        "즉, $H(x) = Wx$ 라고 가정하자\n",
        "\n",
        "그러면 아래와 같은 그래프를 그릴 수 있다\n",
        "\n",
        "여기서 주황선은 $W = 20$ , 초록 선은 $W = 1$ 인 경우이다"
      ]
    },
    {
      "cell_type": "markdown",
      "metadata": {
        "id": "pkcAYi79g9HA"
      },
      "source": [
        "![image.png](data:image/png;base64,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)"
      ]
    },
    {
      "cell_type": "markdown",
      "metadata": {
        "id": "uxWZ0jwrhk3K"
      },
      "source": [
        "수정한 Hypothesis를 가지고 $W$ 와 $loss(W)$ 사이의 관계를 나타내면 아래와 같다 (cost = loss)"
      ]
    },
    {
      "cell_type": "markdown",
      "metadata": {
        "id": "S5ItOrSAhwEw"
      },
      "source": [
        "![image.png](data:image/png;base64,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)"
      ]
    },
    {
      "cell_type": "markdown",
      "metadata": {
        "id": "DGdoKLy2h0Ij"
      },
      "source": [
        "우리는 위 그래프에서 cost (=loss)가 최소가 되는 $W$값을 찾기 원한다\n",
        "\n",
        "이를 위해 학습 시작 시 $W$값을 임의로 초기화 한 후, 최소가 되는 지점으로 향할 수 있게 점차 $W$값을 수정해 나간다\n",
        "\n",
        "이를 그림으로 나타내면 아래와 같다"
      ]
    },
    {
      "cell_type": "markdown",
      "metadata": {
        "id": "5IzCRKJFiEt8"
      },
      "source": [
        "![image.png](data:image/png;base64,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)"
      ]
    },
    {
      "cell_type": "markdown",
      "metadata": {
        "id": "LqrX5gJJiGQ-"
      },
      "source": [
        "임의로 초기화 한 $W$값을 점차 최적의 $W$값에 다가 갈 수 있도록 사용하는 것이 Gradient Descent 이다\n",
        "\n",
        "이는 말 그대로 경사(= 기울기)를 이용한 방법으로, loss가 최소가 되는 지점으로 다가갈 수록 $W$에 대한 미분값이 작아지는 것을 이용한 방법이다\n",
        "\n",
        "즉, 현재 $W$값에서의 loss 함수 기울기를 구한 후, 이 기울기의 절대값이 작아지는 방향으로 조금씩 $W$값을 수정하는 작업을 반복하여 최적의 $W$값을 찾는다"
      ]
    },
    {
      "cell_type": "markdown",
      "metadata": {
        "id": "fUAGeSw6imNP"
      },
      "source": [
        "![image.png](data:image/png;base64,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)"
      ]
    },
    {
      "cell_type": "markdown",
      "metadata": {
        "id": "VrYQ1clwi3im"
      },
      "source": [
        "$기울기 = \\frac{∂cost(W)}{∂W}$"
      ]
    },
    {
      "cell_type": "markdown",
      "metadata": {
        "id": "XBxRHBe5jsRD"
      },
      "source": [
        "위 그래프의 경우, 기울기가 음수이면 $W$값을 증가, 양수이면 $W$값을 감소시켜야 한다\n",
        "\n",
        "이를 수식으로 나타내면 다음과 같이 쓸 수 있다"
      ]
    },
    {
      "cell_type": "markdown",
      "metadata": {
        "id": "hbaRmWnij1Zg"
      },
      "source": [
        "\n",
        "\n",
        "*   $W < 0$ : $W$ 증가\\\n",
        "$W := W - α × (음수 기울기)$\n",
        "\n",
        "*   $W > 0$ : $W$ 감소\\\n",
        "$W := W - α × (양수 기울기)$\n",
        "\n",
        "따라서,  $W := W - α\\frac{∂}{∂W}loss(W)$"
      ]
    },
    {
      "cell_type": "markdown",
      "metadata": {
        "id": "TqjaNwkQkOrp"
      },
      "source": [
        "여기서 $\\alpha$는 학습률(learning rate) 를 나타내는 임의의 양수이다\n",
        "\n",
        "이 값은 한 스텝마다 $W$값을 변경할 때 얼마나 큰 폭으로 변경할지 결정해준다\n",
        "\n",
        "이 값이 적절하지 않으면 학습에 너무 오랜 시간이 소요되거나, 혹은 아래와 같이 학습이 발산하는 경우가 생긴다"
      ]
    },
    {
      "cell_type": "markdown",
      "metadata": {
        "id": "mNJIkejMlesW"
      },
      "source": [
        "![image.png](data:image/png;base64,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)"
      ]
    },
    {
      "cell_type": "markdown",
      "metadata": {
        "id": "YtbjosAVll7M"
      },
      "source": [
        "Hypothesis, loss function, Optimizer 는 풀고자 하는 문제에 따라 모두 다르다\n",
        "\n",
        "선형 회귀의 경우 $H(x) = Wx + b$, MSE, GD 를 사용하지만 다른 문제에서는 다른 식들을 사용한다"
      ]
    },
    {
      "cell_type": "markdown",
      "metadata": {
        "id": "K4qxSAMSmI55"
      },
      "source": [
        "### **2) PyTorch로 Linear Regression 구현하기**"
      ]
    },
    {
      "cell_type": "code",
      "metadata": {
        "colab": {
          "base_uri": "https://localhost:8080/"
        },
        "id": "miSxrXaTsMnR",
        "outputId": "e6183723-be26-41fa-a5cf-cd081e4730fe"
      },
      "source": [
        "# 필요 패키지 import\n",
        "import torch\n",
        "import torch.nn as nn\n",
        "import torch.nn.functional as F\n",
        "import torch.optim as optim\n",
        "\n",
        "# Random seed 사용\n",
        "torch.manual_seed(1)"
      ],
      "execution_count": null,
      "outputs": [
        {
          "output_type": "execute_result",
          "data": {
            "text/plain": [
              "<torch._C.Generator at 0x7f35a3f5c8d0>"
            ]
          },
          "metadata": {
            "tags": []
          },
          "execution_count": 139
        }
      ]
    },
    {
      "cell_type": "code",
      "metadata": {
        "id": "1pJyjm5gsYCQ"
      },
      "source": [
        "# 학습을 위한 변수 선언\n",
        "x_train = torch.FloatTensor([[1], [2], [3]]) # 입력값 = x = 공부시간\n",
        "y_train = torch.FloatTensor([[2], [4], [6]]) # 출력값 = y = 점수"
      ],
      "execution_count": null,
      "outputs": []
    },
    {
      "cell_type": "code",
      "metadata": {
        "colab": {
          "base_uri": "https://localhost:8080/"
        },
        "id": "qz8WWk0IscxK",
        "outputId": "a71c9eeb-c57a-46c7-fb6c-8f6b9041faa0"
      },
      "source": [
        "print(x_train)\n",
        "print(x_train.shape)"
      ],
      "execution_count": null,
      "outputs": [
        {
          "output_type": "stream",
          "text": [
            "tensor([[1.],\n",
            "        [2.],\n",
            "        [3.]])\n",
            "torch.Size([3, 1])\n"
          ],
          "name": "stdout"
        }
      ]
    },
    {
      "cell_type": "markdown",
      "metadata": {
        "id": "YX0kYc5NmQgL"
      },
      "source": [
        "x_train의 값과 그 크기(3x1)를 확인 가능\n"
      ]
    },
    {
      "cell_type": "code",
      "metadata": {
        "colab": {
          "base_uri": "https://localhost:8080/"
        },
        "id": "MRtXN-HtsliD",
        "outputId": "5fa2a37f-071c-4a0c-f7c6-985441519720"
      },
      "source": [
        "print(y_train)\n",
        "print(y_train.shape)"
      ],
      "execution_count": null,
      "outputs": [
        {
          "output_type": "stream",
          "text": [
            "tensor([[2.],\n",
            "        [4.],\n",
            "        [6.]])\n",
            "torch.Size([3, 1])\n"
          ],
          "name": "stdout"
        }
      ]
    },
    {
      "cell_type": "markdown",
      "metadata": {
        "id": "hRE4ajZLsk0X"
      },
      "source": [
        "y_train의 값과 그 크기(3x1)를 확인 가능"
      ]
    },
    {
      "cell_type": "code",
      "metadata": {
        "colab": {
          "base_uri": "https://localhost:8080/"
        },
        "id": "gOvvMV_ws0JW",
        "outputId": "47abe749-1c67-4b74-d5d8-959928abc0f3"
      },
      "source": [
        "# 가중치 W를 0으로 초기화하고 학습을 통해 값이 변경되는 변수임을 명시함\n",
        "W = torch.zeros(1, requires_grad=True) \n",
        "# 가중치 W를 출력\n",
        "print(W) "
      ],
      "execution_count": null,
      "outputs": [
        {
          "output_type": "stream",
          "text": [
            "tensor([0.], requires_grad=True)\n"
          ],
          "name": "stdout"
        }
      ]
    },
    {
      "cell_type": "markdown",
      "metadata": {
        "id": "R5_SeF3us9XK"
      },
      "source": [
        "가중치 $W$가 0으로 초기화 되었고, requires_grad = True 를 통해 이 값이 학습을 통해 값이 변경되는 변수임을 선언"
      ]
    },
    {
      "cell_type": "code",
      "metadata": {
        "colab": {
          "base_uri": "https://localhost:8080/"
        },
        "id": "pXKpGoVns5SF",
        "outputId": "f26b3675-7c8f-472f-d6e2-cab0d612ae9f"
      },
      "source": [
        "# 편향 b 또한 초기화, 학습을 통해 값이 변하는 변수임을 선언\n",
        "b = torch.zeros(1, requires_grad=True)\n",
        "print(b)"
      ],
      "execution_count": null,
      "outputs": [
        {
          "output_type": "stream",
          "text": [
            "tensor([0.], requires_grad=True)\n"
          ],
          "name": "stdout"
        }
      ]
    },
    {
      "cell_type": "markdown",
      "metadata": {
        "id": "YGoUrOLPtR1R"
      },
      "source": [
        "현재는 $W, b$ 모두 값이 0이므로, 직선의 식은 다음과 같다\n",
        "\n",
        "$y = 0 \\times x + 0$"
      ]
    },
    {
      "cell_type": "markdown",
      "metadata": {
        "id": "fmWowKUzto-E"
      },
      "source": [
        "다음으로 선형 회귀의 Hypothesis에 해당하는 직선의 방정식$(H(x) = Wx + b)$을 선언한다"
      ]
    },
    {
      "cell_type": "code",
      "metadata": {
        "colab": {
          "base_uri": "https://localhost:8080/"
        },
        "id": "eIXEo4jStQjq",
        "outputId": "a3311265-a319-4501-db6f-4f767bbb31ec"
      },
      "source": [
        "# 가설 식 세우기\n",
        "hypothesis = x_train * W + b\n",
        "print(hypothesis)"
      ],
      "execution_count": null,
      "outputs": [
        {
          "output_type": "stream",
          "text": [
            "tensor([[0.],\n",
            "        [0.],\n",
            "        [0.]], grad_fn=<AddBackward0>)\n"
          ],
          "name": "stdout"
        }
      ]
    },
    {
      "cell_type": "markdown",
      "metadata": {
        "id": "7HtSsf8iuFG_"
      },
      "source": [
        "이제 loss function을 선언한다\n",
        "\n",
        "\n",
        "$loss(W, b) = \\frac{1}{n} \\sum_{i=1}^{n} \\left[y^{(i)} - H(x^{(i)})\\right]^2$"
      ]
    },
    {
      "cell_type": "code",
      "metadata": {
        "colab": {
          "base_uri": "https://localhost:8080/"
        },
        "id": "ntZBzVQGtm1i",
        "outputId": "67f68403-4fa3-46ba-a34a-56e5ef620e2d"
      },
      "source": [
        "# loss function 선언하기 (torch.mean 을 사용해 평균값 계산)\n",
        "loss = torch.mean((y_train - hypothesis) ** 2) \n",
        "print(loss)"
      ],
      "execution_count": null,
      "outputs": [
        {
          "output_type": "stream",
          "text": [
            "tensor(18.6667, grad_fn=<MeanBackward0>)\n"
          ],
          "name": "stdout"
        }
      ]
    },
    {
      "cell_type": "markdown",
      "metadata": {
        "id": "KjlLA6xwuBJK"
      },
      "source": [
        "다음으로 학습을 진행하기 위해 Optimizer (SGD)를 선언, 사용한다\n",
        "\n",
        "SGD는 Stochastic Gradient Descent로, 경사 하강법의 일종이다\n",
        "\n",
        "여기서 lr은 학습률 (위에서의 $\\alpha$값)을 의미한다"
      ]
    },
    {
      "cell_type": "code",
      "metadata": {
        "id": "eAJZus5ft20U"
      },
      "source": [
        "optimizer = optim.SGD([W, b], lr=0.01)"
      ],
      "execution_count": null,
      "outputs": []
    },
    {
      "cell_type": "markdown",
      "metadata": {
        "id": "HXwl4vtnvZU8"
      },
      "source": [
        "다음으로 학습을 시작하기 위하여 optimizer.zero_grad()를 이용해 기울기를 0으로 초기화한다\n",
        "\n",
        "그 후 loss.backward()를 사용해 현재 $W, b$ 값에 대한 기울기를 계산할 수 있다\n",
        "\n",
        "마지막으로 optimizer.step()을 사용하여 현재 계산된 기울기와 lr을 이용해 $W, b$ 값을 업데이트 해준다"
      ]
    },
    {
      "cell_type": "code",
      "metadata": {
        "id": "4gBULqTRvN4r"
      },
      "source": [
        "# gradient를 0으로 초기화\n",
        "optimizer.zero_grad() "
      ],
      "execution_count": null,
      "outputs": []
    },
    {
      "cell_type": "code",
      "metadata": {
        "id": "jW2S6fM3v_JF"
      },
      "source": [
        "# 비용 함수를 미분하여 gradient 계산\n",
        "loss.backward() "
      ],
      "execution_count": null,
      "outputs": []
    },
    {
      "cell_type": "code",
      "metadata": {
        "id": "a_PzKCv1v__d"
      },
      "source": [
        "# W와 b를 업데이트\n",
        "optimizer.step() "
      ],
      "execution_count": null,
      "outputs": []
    },
    {
      "cell_type": "markdown",
      "metadata": {
        "id": "9q2qbLWQwEs6"
      },
      "source": [
        "위 코드를 모두 실행하면 단 한번만 기울기를 계산 후 $W, b$ 값을 업데이트한다\n",
        "\n",
        "위 과정을 여러 번 반복하여 $W, b$ 값을 업데이트 해야 더욱 loss function이 최소값에 가까워 질 것이다"
      ]
    },
    {
      "cell_type": "code",
      "metadata": {
        "colab": {
          "base_uri": "https://localhost:8080/"
        },
        "id": "nPmDocNswA5O",
        "outputId": "6766a47b-87b1-405c-abee-57b679cc8c11"
      },
      "source": [
        "print(W)"
      ],
      "execution_count": null,
      "outputs": [
        {
          "output_type": "stream",
          "text": [
            "tensor([0.1867], requires_grad=True)\n"
          ],
          "name": "stdout"
        }
      ]
    },
    {
      "cell_type": "code",
      "metadata": {
        "colab": {
          "base_uri": "https://localhost:8080/"
        },
        "id": "3JJZkGRdwbfr",
        "outputId": "cab9eca9-4c72-40f1-dc90-c18d9224aeee"
      },
      "source": [
        "print(b)"
      ],
      "execution_count": null,
      "outputs": [
        {
          "output_type": "stream",
          "text": [
            "tensor([0.0800], requires_grad=True)\n"
          ],
          "name": "stdout"
        }
      ]
    },
    {
      "cell_type": "markdown",
      "metadata": {
        "id": "yMg69b50wd2A"
      },
      "source": [
        "한 번의 업데이트 후 $W ,b = (0, 0)$ 에서 값이 업데이트 된 것을 확인할 수 있다"
      ]
    },
    {
      "cell_type": "code",
      "metadata": {
        "colab": {
          "base_uri": "https://localhost:8080/"
        },
        "id": "_YlRRQmIwdCP",
        "outputId": "fe0fce22-e4cc-43bd-b377-7ea9b7a71372"
      },
      "source": [
        "#여러번 학습을 하기 위한 전체 코드\n",
        "\n",
        "# 데이터 선언\n",
        "x_train = torch.FloatTensor([[1], [2], [3]])\n",
        "y_train = torch.FloatTensor([[2], [4], [6]])\n",
        "\n",
        "# 모델 초기화 (가중치, 편향)\n",
        "W = torch.zeros(1, requires_grad=True)\n",
        "b = torch.zeros(1, requires_grad=True)\n",
        "\n",
        "# optimizer 설정\n",
        "optimizer = optim.SGD([W, b], lr=0.01)\n",
        "\n",
        "nb_epochs = 2000 # 원하는만큼 경사 하강법을 반복\n",
        "for epoch in range(nb_epochs):\n",
        "\n",
        "    # H(x) 계산\n",
        "    hypothesis = x_train * W + b\n",
        "\n",
        "    # loss 계산\n",
        "    loss = torch.mean((y_train - hypothesis) ** 2)\n",
        "\n",
        "    # cost로 H(x) 개선\n",
        "    optimizer.zero_grad()\n",
        "    loss.backward()\n",
        "    optimizer.step()\n",
        "\n",
        "    # 100번마다 로그 출력\n",
        "    if epoch % 100 == 0:\n",
        "        print('Epoch {:4d}/{} W: {:.3f}, b: {:.3f} Loss: {:.6f}'.format(\n",
        "            epoch, nb_epochs, W.item(), b.item(), loss.item()\n",
        "        ))\n",
        "    if epoch == 1999:\n",
        "        print('Epoch {:4d}/{} W: {:.3f}, b: {:.3f} Loss: {:.6f}'.format(\n",
        "            epoch+1, nb_epochs, W.item(), b.item(), loss.item()\n",
        "        ))"
      ],
      "execution_count": null,
      "outputs": [
        {
          "output_type": "stream",
          "text": [
            "Epoch    0/2000 W: 0.187, b: 0.080 Loss: 18.666666\n",
            "Epoch  100/2000 W: 1.746, b: 0.578 Loss: 0.048171\n",
            "Epoch  200/2000 W: 1.800, b: 0.454 Loss: 0.029767\n",
            "Epoch  300/2000 W: 1.843, b: 0.357 Loss: 0.018394\n",
            "Epoch  400/2000 W: 1.876, b: 0.281 Loss: 0.011366\n",
            "Epoch  500/2000 W: 1.903, b: 0.221 Loss: 0.007024\n",
            "Epoch  600/2000 W: 1.924, b: 0.174 Loss: 0.004340\n",
            "Epoch  700/2000 W: 1.940, b: 0.136 Loss: 0.002682\n",
            "Epoch  800/2000 W: 1.953, b: 0.107 Loss: 0.001657\n",
            "Epoch  900/2000 W: 1.963, b: 0.084 Loss: 0.001024\n",
            "Epoch 1000/2000 W: 1.971, b: 0.066 Loss: 0.000633\n",
            "Epoch 1100/2000 W: 1.977, b: 0.052 Loss: 0.000391\n",
            "Epoch 1200/2000 W: 1.982, b: 0.041 Loss: 0.000242\n",
            "Epoch 1300/2000 W: 1.986, b: 0.032 Loss: 0.000149\n",
            "Epoch 1400/2000 W: 1.989, b: 0.025 Loss: 0.000092\n",
            "Epoch 1500/2000 W: 1.991, b: 0.020 Loss: 0.000057\n",
            "Epoch 1600/2000 W: 1.993, b: 0.016 Loss: 0.000035\n",
            "Epoch 1700/2000 W: 1.995, b: 0.012 Loss: 0.000022\n",
            "Epoch 1800/2000 W: 1.996, b: 0.010 Loss: 0.000013\n",
            "Epoch 1900/2000 W: 1.997, b: 0.008 Loss: 0.000008\n",
            "Epoch 2000/2000 W: 1.997, b: 0.006 Loss: 0.000005\n"
          ],
          "name": "stdout"
        }
      ]
    },
    {
      "cell_type": "markdown",
      "metadata": {
        "id": "Fg-5xRS-w94V"
      },
      "source": [
        "위 코드에서는 for문을 사용해 총 2000번 $W, b$ 값을 업데이트 했다\n",
        "\n",
        "업데이트를 반복할수록 Loss값이 작아지는 것을 확인 가능하다\n",
        "\n",
        "여기서 Epoch는 전체 훈련 데이터셋이 학습에 몇 번 사용됐는지 나타낸다"
      ]
    },
    {
      "cell_type": "markdown",
      "metadata": {
        "id": "EluiRM_y1SZ2"
      },
      "source": [
        "위 코드에서는 매 학습 스탭마다 optimizer.zero_grad()를 통해 기울기를 초기화하였다\n",
        "\n",
        "이는 PyTorch가 새롭게 미분을 통해 얻은 기울기를 이전 스탭에서 계산된 기울기 값에 누적시키기 때문이다"
      ]
    },
    {
      "cell_type": "code",
      "metadata": {
        "id": "O0UTCDgsw8Cs",
        "colab": {
          "base_uri": "https://localhost:8080/"
        },
        "outputId": "d7c0c893-ae35-42fd-c49e-fb15016bc08e"
      },
      "source": [
        "# 값이 2인 스칼라 w 선언\n",
        "w = torch.tensor(2.0, requires_grad=True)\n",
        "\n",
        "nb_epochs = 20\n",
        "for epoch in range(nb_epochs):\n",
        "\n",
        "  z = 2*w\n",
        "\n",
        "  z.backward()\n",
        "  print('수식을 w로 미분한 값 : {}'.format(w.grad))"
      ],
      "execution_count": null,
      "outputs": [
        {
          "output_type": "stream",
          "text": [
            "수식을 w로 미분한 값 : 2.0\n",
            "수식을 w로 미분한 값 : 4.0\n",
            "수식을 w로 미분한 값 : 6.0\n",
            "수식을 w로 미분한 값 : 8.0\n",
            "수식을 w로 미분한 값 : 10.0\n",
            "수식을 w로 미분한 값 : 12.0\n",
            "수식을 w로 미분한 값 : 14.0\n",
            "수식을 w로 미분한 값 : 16.0\n",
            "수식을 w로 미분한 값 : 18.0\n",
            "수식을 w로 미분한 값 : 20.0\n",
            "수식을 w로 미분한 값 : 22.0\n",
            "수식을 w로 미분한 값 : 24.0\n",
            "수식을 w로 미분한 값 : 26.0\n",
            "수식을 w로 미분한 값 : 28.0\n",
            "수식을 w로 미분한 값 : 30.0\n",
            "수식을 w로 미분한 값 : 32.0\n",
            "수식을 w로 미분한 값 : 34.0\n",
            "수식을 w로 미분한 값 : 36.0\n",
            "수식을 w로 미분한 값 : 38.0\n",
            "수식을 w로 미분한 값 : 40.0\n"
          ],
          "name": "stdout"
        }
      ]
    },
    {
      "cell_type": "markdown",
      "metadata": {
        "id": "Pm_PxBeU20SM"
      },
      "source": [
        "$z = 2w$ 를 변수$w$로 미분한 값은 $w$의 값에 상관없이 항상 2이다\n",
        "\n",
        "그러나 위에서 확인 할 수 있듯 기울기 초기화를 진행하지 않으면 매 스탭마다 기울기가 누적된다\n",
        "\n",
        "따라서 매 스탭마다 아래와 같이 기울기를 초기화 해줘야 제대로 기울기를 구할 수 있다"
      ]
    },
    {
      "cell_type": "code",
      "metadata": {
        "colab": {
          "base_uri": "https://localhost:8080/"
        },
        "id": "0ZHvbB--2xR6",
        "outputId": "645e7755-df64-4ef2-9544-4a107779e99d"
      },
      "source": [
        "# 값이 2인 스칼라 w 선언\n",
        "w = torch.tensor(2.0, requires_grad=True)\n",
        "\n",
        "nb_epochs = 20\n",
        "opt = optim.SGD([w], lr=0.01)\n",
        "for epoch in range(nb_epochs):\n",
        "\n",
        "  z = 2*w\n",
        "\n",
        "  opt.zero_grad()\n",
        "  z.backward()\n",
        "  print('수식을 w로 미분한 값 : {}'.format(w.grad))"
      ],
      "execution_count": null,
      "outputs": [
        {
          "output_type": "stream",
          "text": [
            "수식을 w로 미분한 값 : 2.0\n",
            "수식을 w로 미분한 값 : 2.0\n",
            "수식을 w로 미분한 값 : 2.0\n",
            "수식을 w로 미분한 값 : 2.0\n",
            "수식을 w로 미분한 값 : 2.0\n",
            "수식을 w로 미분한 값 : 2.0\n",
            "수식을 w로 미분한 값 : 2.0\n",
            "수식을 w로 미분한 값 : 2.0\n",
            "수식을 w로 미분한 값 : 2.0\n",
            "수식을 w로 미분한 값 : 2.0\n",
            "수식을 w로 미분한 값 : 2.0\n",
            "수식을 w로 미분한 값 : 2.0\n",
            "수식을 w로 미분한 값 : 2.0\n",
            "수식을 w로 미분한 값 : 2.0\n",
            "수식을 w로 미분한 값 : 2.0\n",
            "수식을 w로 미분한 값 : 2.0\n",
            "수식을 w로 미분한 값 : 2.0\n",
            "수식을 w로 미분한 값 : 2.0\n",
            "수식을 w로 미분한 값 : 2.0\n",
            "수식을 w로 미분한 값 : 2.0\n"
          ],
          "name": "stdout"
        }
      ]
    },
    {
      "cell_type": "markdown",
      "metadata": {
        "id": "DqCIyDXG4FGr"
      },
      "source": [
        "가중치 $W$나 편향 $b$를 선언 할 때 requires_grad=True 를 사용했다\n",
        "\n",
        "또한 backward()함수를 통해 loss function 을 미분한 값을 구할 수 있었다\n",
        "\n",
        "이는 PyTorch가 제공하는 자동미분 (Autograd)를 사용한 것이다\n",
        "\n",
        "현재 사용중인 loss function이나 Hypothesis는 어렵지 않지만, 모델이 복잡해질수록 직접 이 식들을 미분하는 것은 힘들다\n",
        "\n",
        "PyTorch는 이 Autograd를 이용해 미분값을 쉽게 구할 수 있다"
      ]
    },
    {
      "cell_type": "code",
      "metadata": {
        "colab": {
          "base_uri": "https://localhost:8080/"
        },
        "id": "-kiq4e3V3tCO",
        "outputId": "1147186f-915b-44f3-8514-56057063db30"
      },
      "source": [
        "# 값 2인 스칼라 텐서 w 선언, requires_grad = True를 하면 w.grad에 w에 대한 미분값이 저장된다\n",
        "w = torch.tensor(2.0, requires_grad=True)\n",
        "\n",
        "# 미분 할 수식 선언\n",
        "z = 2*(w**2) + 5    # z = 2(w^2) + 5\n",
        "\n",
        "# backward() 사용하여 w에 대한 기울기 계산\n",
        "z.backward()\n",
        "\n",
        "# w = 2 일 때 z를 w로 미분 한 값을 계산 가능하다 \n",
        "print('수식 z를 w로 미분한 값 (w=2) : {}'.format(w.grad))"
      ],
      "execution_count": null,
      "outputs": [
        {
          "output_type": "stream",
          "text": [
            "수식 z를 w로 미분한 값 (w=2) : 8.0\n"
          ],
          "name": "stdout"
        }
      ]
    },
    {
      "cell_type": "markdown",
      "metadata": {
        "id": "dJWvFNnK7rfe"
      },
      "source": [
        "### **3) PyTorch로 Multivariable Linear Regression 구현하기**"
      ]
    },
    {
      "cell_type": "markdown",
      "metadata": {
        "id": "URCAEvXO70Dt"
      },
      "source": [
        "이번에는 입력 변수가 여러개인 경우의 선형 회귀를 진행해 보자\n",
        "\n",
        "아래와 같이 학생 5명에 대해 3번의 퀴즈점수와 기말고사 점수가 있다고 하자\n",
        "\n",
        "이 때 3번의 퀴즈를 주면 기말 점수를 예측하기 위해 선형회귀 모델을 만들 수 있다\n",
        "\n",
        "변수가 여러개이므로 하나하나 직접 선언하는 것 보다는 행렬 연산을 통해 계산하는 것이 편하다"
      ]
    },
    {
      "cell_type": "markdown",
      "metadata": {
        "id": "qvxH35Kq8T7W"
      },
      "source": [
        "![image.png](data:image/png;base64,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)"
      ]
    },
    {
      "cell_type": "markdown",
      "metadata": {
        "id": "2wfWfBW38aaV"
      },
      "source": [
        "이 경우 Hypothesis는 $H(x) = w_{1}x_{1} + w_{2}x_{2} + w_{3}x_{3} + b$ 가 된다"
      ]
    },
    {
      "cell_type": "markdown",
      "metadata": {
        "id": "oGTu-Iaf8f31"
      },
      "source": [
        "이를 행렬 연산으로 나타내면 아래와 같다\n",
        "\n",
        "$\\left(\n",
        "    \\begin{array}{c}\n",
        "      x_{11}\\ x_{12}\\ x_{13}\\ \\\\\n",
        "      x_{21}\\ x_{22}\\ x_{23}\\ \\\\\n",
        "      x_{31}\\ x_{32}\\ x_{33}\\ \\\\\n",
        "      x_{41}\\ x_{42}\\ x_{43}\\ \\\\\n",
        "      x_{51}\\ x_{52}\\ x_{53}\\ \\\\\n",
        "    \\end{array}\n",
        "  \\right)\n",
        "\\left(\n",
        "    \\begin{array}{c}\n",
        "      w_{1} \\\\\n",
        "      w_{2} \\\\\n",
        "      w_{3} \\\\\n",
        "    \\end{array}\n",
        "  \\right)\n",
        "+\n",
        "\\left(\n",
        "    \\begin{array}{c}\n",
        "      b \\\\\n",
        "      b \\\\\n",
        "      b \\\\\n",
        "      b \\\\\n",
        "      b \\\\\n",
        "    \\end{array}\n",
        "  \\right)\n",
        " \\ =\n",
        "\\left(\n",
        "    \\begin{array}{c}\n",
        "      x_{11}w_{1}+ x_{12}w_{2}+ x_{13}w_{3} + b\\ \\\\\n",
        "      x_{21}w_{1}+ x_{22}w_{2}+ x_{23}w_{3} + b\\ \\\\\n",
        "      x_{31}w_{1}+ x_{32}w_{2}+ x_{33}w_{3} + b\\ \\\\\n",
        "      x_{41}w_{1}+ x_{42}w_{2}+ x_{43}w_{3} + b\\ \\\\\n",
        "      x_{51}w_{1}+ x_{52}w_{2}+ x_{53}w_{3} + b\\ \\\\\n",
        "    \\end{array}\n",
        "  \\right)$\n",
        "  "
      ]
    },
    {
      "cell_type": "markdown",
      "metadata": {
        "id": "sTUYGbWi8zRJ"
      },
      "source": [
        "즉, $H(X) = XW + B$ 로 쓸 수 있다\n",
        "\n",
        "이를 PyTorch로 구현하면 아래와 같다"
      ]
    },
    {
      "cell_type": "code",
      "metadata": {
        "id": "O6FICqKp8XZw"
      },
      "source": [
        "# 훈련 데이터를 행렬식으로 선언\n",
        "x_train  =  torch.FloatTensor([[73,  80,  75], \n",
        "                               [93,  88,  93], \n",
        "                               [89,  91,  80], \n",
        "                               [96,  98,  100],   \n",
        "                               [73,  66,  70]])  \n",
        "y_train  =  torch.FloatTensor([[152],  [185],  [180],  [196],  [142]])"
      ],
      "execution_count": null,
      "outputs": []
    },
    {
      "cell_type": "markdown",
      "metadata": {
        "id": "8NUJgThf9Se8"
      },
      "source": [
        "입력 데이터는 5x3 행렬, 출력 데이터는 5x1 행렬 (=벡터) 임을 알 수 있다"
      ]
    },
    {
      "cell_type": "code",
      "metadata": {
        "colab": {
          "base_uri": "https://localhost:8080/"
        },
        "id": "dTzAGVDa9QdN",
        "outputId": "bb25157f-a31b-4534-a7a4-c787959fc2ed"
      },
      "source": [
        "print(x_train.shape)\n",
        "print(y_train.shape)"
      ],
      "execution_count": null,
      "outputs": [
        {
          "output_type": "stream",
          "text": [
            "torch.Size([5, 3])\n",
            "torch.Size([5, 1])\n"
          ],
          "name": "stdout"
        }
      ]
    },
    {
      "cell_type": "code",
      "metadata": {
        "id": "z5bkxcES9an3"
      },
      "source": [
        "# 가중치와 편향 선언 및 초기화\n",
        "W = torch.zeros((3, 1), requires_grad=True) # 가중치는 3x1 행렬(=벡터)\n",
        "b = torch.zeros(1, requires_grad=True)      # 편향 선언"
      ],
      "execution_count": null,
      "outputs": []
    },
    {
      "cell_type": "code",
      "metadata": {
        "id": "4ql47jYQ9RsJ"
      },
      "source": [
        "# 행렬 곱을 이용하여 hypothesis 식 선언\n",
        "hypothesis = x_train.matmul(W) + b"
      ],
      "execution_count": null,
      "outputs": []
    },
    {
      "cell_type": "markdown",
      "metadata": {
        "id": "UtHzj4BX-BEJ"
      },
      "source": [
        "위 내용을 토대로 전체 학습 코드를 적으면 아래와 같다"
      ]
    },
    {
      "cell_type": "code",
      "metadata": {
        "colab": {
          "base_uri": "https://localhost:8080/"
        },
        "id": "EDY-zXyf-DDg",
        "outputId": "ec766c14-271a-45ce-baff-98f7552c509c"
      },
      "source": [
        "x_train  =  torch.FloatTensor([[73,  80,  75], \n",
        "                               [93,  88,  93], \n",
        "                               [89,  91,  80], \n",
        "                               [96,  98,  100],   \n",
        "                               [73,  66,  70]])  \n",
        "y_train  =  torch.FloatTensor([[152],  [185],  [180],  [196],  [142]])\n",
        "\n",
        "# 모델 초기화\n",
        "W = torch.zeros((3, 1), requires_grad=True)\n",
        "b = torch.zeros(1, requires_grad=True)\n",
        "# optimizer 설정\n",
        "optimizer = optim.SGD([W, b], lr=1e-5)\n",
        "\n",
        "nb_epochs = 20\n",
        "for epoch in range(nb_epochs + 1):\n",
        "\n",
        "    # H(x) 계산\n",
        "    # 편향 b는 브로드 캐스팅되어 각 샘플에 더해집니다.\n",
        "    hypothesis = x_train.matmul(W) + b\n",
        "\n",
        "    # loss 계산\n",
        "    loss = torch.mean((hypothesis - y_train) ** 2)\n",
        "\n",
        "    # loss로 H(x) 개선\n",
        "    optimizer.zero_grad()\n",
        "    loss.backward()\n",
        "    optimizer.step()\n",
        "\n",
        "    print('Epoch {:4d}/{} hypothesis: {} loss: {:.6f}'.format(\n",
        "        epoch, nb_epochs, hypothesis.squeeze().detach(), loss.item()\n",
        "    ))\n",
        "    print('Weight: w1={:.4f} ,w2={:.4f} w3={:.4f} Bias: {:.6f}'.format(\n",
        "        W.squeeze().detach()[0], W.squeeze().detach()[1], W.squeeze().detach()[2], b.item()\n",
        "    ))\n",
        "    print(\"\\n\")"
      ],
      "execution_count": null,
      "outputs": [
        {
          "output_type": "stream",
          "text": [
            "Epoch    0/20 hypothesis: tensor([0., 0., 0., 0., 0.]) loss: 29661.800781\n",
            "Weight: w1=0.2940 ,w2=0.2936 w3=0.2902 Bias: 0.003420\n",
            "\n",
            "\n",
            "Epoch    1/20 hypothesis: tensor([66.7178, 80.1701, 76.1025, 86.0194, 61.1565]) loss: 9537.694336\n",
            "Weight: w1=0.4607 ,w2=0.4601 w3=0.4546 Bias: 0.005359\n",
            "\n",
            "\n",
            "Epoch    2/20 hypothesis: tensor([104.5421, 125.6208, 119.2478, 134.7862,  95.8280]) loss: 3069.590088\n",
            "Weight: w1=0.5553 ,w2=0.5545 w3=0.5478 Bias: 0.006459\n",
            "\n",
            "\n",
            "Epoch    3/20 hypothesis: tensor([125.9858, 151.3882, 143.7087, 162.4333, 115.4844]) loss: 990.670288\n",
            "Weight: w1=0.6090 ,w2=0.6080 w3=0.6006 Bias: 0.007083\n",
            "\n",
            "\n",
            "Epoch    4/20 hypothesis: tensor([138.1429, 165.9963, 157.5768, 178.1071, 126.6283]) loss: 322.481873\n",
            "Weight: w1=0.6394 ,w2=0.6383 w3=0.6305 Bias: 0.007437\n",
            "\n",
            "\n",
            "Epoch    5/20 hypothesis: tensor([145.0350, 174.2780, 165.4395, 186.9928, 132.9461]) loss: 107.717064\n",
            "Weight: w1=0.6567 ,w2=0.6556 w3=0.6473 Bias: 0.007639\n",
            "\n",
            "\n",
            "Epoch    6/20 hypothesis: tensor([148.9423, 178.9730, 169.8976, 192.0301, 136.5279]) loss: 38.687496\n",
            "Weight: w1=0.6666 ,w2=0.6653 w3=0.6568 Bias: 0.007753\n",
            "\n",
            "\n",
            "Epoch    7/20 hypothesis: tensor([151.1574, 181.6346, 172.4254, 194.8856, 138.5585]) loss: 16.499043\n",
            "Weight: w1=0.6722 ,w2=0.6709 w3=0.6622 Bias: 0.007819\n",
            "\n",
            "\n",
            "Epoch    8/20 hypothesis: tensor([152.4131, 183.1435, 173.8590, 196.5043, 139.7097]) loss: 9.365656\n",
            "Weight: w1=0.6754 ,w2=0.6741 w3=0.6652 Bias: 0.007856\n",
            "\n",
            "\n",
            "Epoch    9/20 hypothesis: tensor([153.1250, 183.9988, 174.6723, 197.4217, 140.3625]) loss: 7.071114\n",
            "Weight: w1=0.6773 ,w2=0.6759 w3=0.6668 Bias: 0.007878\n",
            "\n",
            "\n",
            "Epoch   10/20 hypothesis: tensor([153.5285, 184.4835, 175.1338, 197.9415, 140.7325]) loss: 6.331847\n",
            "Weight: w1=0.6784 ,w2=0.6769 w3=0.6676 Bias: 0.007890\n",
            "\n",
            "\n",
            "Epoch   11/20 hypothesis: tensor([153.7572, 184.7582, 175.3958, 198.2360, 140.9424]) loss: 6.092532\n",
            "Weight: w1=0.6791 ,w2=0.6775 w3=0.6681 Bias: 0.007898\n",
            "\n",
            "\n",
            "Epoch   12/20 hypothesis: tensor([153.8868, 184.9138, 175.5449, 198.4026, 141.0613]) loss: 6.013817\n",
            "Weight: w1=0.6795 ,w2=0.6779 w3=0.6683 Bias: 0.007903\n",
            "\n",
            "\n",
            "Epoch   13/20 hypothesis: tensor([153.9602, 185.0019, 175.6299, 198.4969, 141.1288]) loss: 5.986785\n",
            "Weight: w1=0.6798 ,w2=0.6781 w3=0.6683 Bias: 0.007906\n",
            "\n",
            "\n",
            "Epoch   14/20 hypothesis: tensor([154.0017, 185.0517, 175.6785, 198.5500, 141.1671]) loss: 5.976325\n",
            "Weight: w1=0.6800 ,w2=0.6782 w3=0.6683 Bias: 0.007908\n",
            "\n",
            "\n",
            "Epoch   15/20 hypothesis: tensor([154.0252, 185.0798, 175.7065, 198.5800, 141.1888]) loss: 5.971208\n",
            "Weight: w1=0.6801 ,w2=0.6783 w3=0.6682 Bias: 0.007910\n",
            "\n",
            "\n",
            "Epoch   16/20 hypothesis: tensor([154.0385, 185.0956, 175.7229, 198.5966, 141.2012]) loss: 5.967835\n",
            "Weight: w1=0.6802 ,w2=0.6784 w3=0.6681 Bias: 0.007911\n",
            "\n",
            "\n",
            "Epoch   17/20 hypothesis: tensor([154.0459, 185.1045, 175.7326, 198.6059, 141.2082]) loss: 5.964969\n",
            "Weight: w1=0.6804 ,w2=0.6784 w3=0.6680 Bias: 0.007912\n",
            "\n",
            "\n",
            "Epoch   18/20 hypothesis: tensor([154.0501, 185.1094, 175.7386, 198.6108, 141.2122]) loss: 5.962291\n",
            "Weight: w1=0.6805 ,w2=0.6784 w3=0.6679 Bias: 0.007914\n",
            "\n",
            "\n",
            "Epoch   19/20 hypothesis: tensor([154.0524, 185.1120, 175.7424, 198.6134, 141.2145]) loss: 5.959664\n",
            "Weight: w1=0.6806 ,w2=0.6785 w3=0.6678 Bias: 0.007915\n",
            "\n",
            "\n",
            "Epoch   20/20 hypothesis: tensor([154.0536, 185.1134, 175.7451, 198.6145, 141.2158]) loss: 5.957089\n",
            "Weight: w1=0.6807 ,w2=0.6785 w3=0.6677 Bias: 0.007916\n",
            "\n",
            "\n"
          ],
          "name": "stdout"
        }
      ]
    },
    {
      "cell_type": "markdown",
      "metadata": {
        "id": "-KJVz8oCBun1"
      },
      "source": [
        "### **4) nn.Module 사용하여 Linear Regression 구현하기**"
      ]
    },
    {
      "cell_type": "markdown",
      "metadata": {
        "id": "2UjvD3LsB7ng"
      },
      "source": [
        "많은 수의 유명한 모델들, 오차 함수들은 Pytorch 패키지 내부에 이미 잘 구현되어 있다\n",
        "\n",
        "따라서 위에서 한 것 처럼 hypothesis, loss 등을 직접 선언 할 필요 없이 이미 구현된 기능을 가져와 학습을 진행 할 수 있다"
      ]
    },
    {
      "cell_type": "markdown",
      "metadata": {
        "id": "EXsLd1TYCN8R"
      },
      "source": [
        "##### **4-1) Linear Regression 구현**"
      ]
    },
    {
      "cell_type": "code",
      "metadata": {
        "colab": {
          "base_uri": "https://localhost:8080/"
        },
        "id": "-sgtOo2sCMa0",
        "outputId": "c82be868-e6a5-4c42-f2bf-d39519d34cba"
      },
      "source": [
        "# 필요한 패키지 import\n",
        "import torch\n",
        "import torch.nn as nn\n",
        "import torch.nn.functional as F\n",
        "\n",
        "# 랜덤시드 선언\n",
        "torch.manual_seed(1)"
      ],
      "execution_count": null,
      "outputs": [
        {
          "output_type": "execute_result",
          "data": {
            "text/plain": [
              "<torch._C.Generator at 0x7f35a3f5c8d0>"
            ]
          },
          "metadata": {
            "tags": []
          },
          "execution_count": 168
        }
      ]
    },
    {
      "cell_type": "code",
      "metadata": {
        "id": "bX2sONTNCcRJ"
      },
      "source": [
        "# 학습 데이터 선언\n",
        "x_train = torch.FloatTensor([[1], [2], [3]])\n",
        "y_train = torch.FloatTensor([[2], [4], [6]])"
      ],
      "execution_count": null,
      "outputs": []
    },
    {
      "cell_type": "code",
      "metadata": {
        "id": "i63tme9JChKF"
      },
      "source": [
        "# 선형 회귀 모델은 Linear()로 불러 올 수 있다\n",
        "# 모델 선언 및 초기화, 단순 선형 회귀이므로 input_dim=1, output_dim=1\n",
        "model = nn.Linear(1,1)"
      ],
      "execution_count": null,
      "outputs": []
    },
    {
      "cell_type": "markdown",
      "metadata": {
        "id": "q2emJvYjCvQx"
      },
      "source": [
        "이렇게 선언한 model에는 자동으로 가중치 $W$와 편향 $b$가 들어가 있다\n",
        "\n",
        "이는 model.parameters()로 불러 올 수 있으며, 다음과 같이 확인 가능하다"
      ]
    },
    {
      "cell_type": "code",
      "metadata": {
        "colab": {
          "base_uri": "https://localhost:8080/"
        },
        "id": "hX4SQ7zRCsIJ",
        "outputId": "975cb8e3-6a56-4043-b5de-0d0e010b9d74"
      },
      "source": [
        "print(list(model.parameters()))"
      ],
      "execution_count": null,
      "outputs": [
        {
          "output_type": "stream",
          "text": [
            "[Parameter containing:\n",
            "tensor([[0.5153]], requires_grad=True), Parameter containing:\n",
            "tensor([-0.4414], requires_grad=True)]\n"
          ],
          "name": "stdout"
        }
      ]
    },
    {
      "cell_type": "markdown",
      "metadata": {
        "id": "bMOhSAnOC8y4"
      },
      "source": [
        "여기서 첫 값이 $W$ 두번째 값이 $b$이고, 현재는 랜덤으로 초기화된 값이 들어가 있다"
      ]
    },
    {
      "cell_type": "code",
      "metadata": {
        "id": "HAujYgY0C7LP"
      },
      "source": [
        "# 학습을 위해 optimizer 설정\n",
        "# 경사 하강법 SGD를 사용하고 learning rate는 0.01\n",
        "optimizer = torch.optim.SGD(model.parameters(), lr=0.01) "
      ],
      "execution_count": null,
      "outputs": []
    },
    {
      "cell_type": "markdown",
      "metadata": {
        "id": "kCZ6zaRrDUy5"
      },
      "source": [
        "따라서 전체 학습 코드는 아래와 같다"
      ]
    },
    {
      "cell_type": "code",
      "metadata": {
        "colab": {
          "base_uri": "https://localhost:8080/"
        },
        "id": "h_bx9fpTDTSa",
        "outputId": "34018b6a-4c40-4e7c-e8d2-d44723d78c80"
      },
      "source": [
        "# 필요한 패키지 import\n",
        "import torch\n",
        "import torch.nn as nn\n",
        "import torch.nn.functional as F\n",
        "\n",
        "# 랜덤시드 선언\n",
        "torch.manual_seed(1)\n",
        "\n",
        "# 학습 데이터 선언\n",
        "x_train = torch.FloatTensor([[1], [2], [3]])\n",
        "y_train = torch.FloatTensor([[2], [4], [6]])\n",
        "\n",
        "# 선형 회귀 모델은 Linear()로 불러 올 수 있다\n",
        "# 모델 선언 및 초기화, 단순 선형 회귀이므로 input_dim=1, output_dim=1\n",
        "model = nn.Linear(1,1)\n",
        "\n",
        "# 학습을 위해 optimizer 설정\n",
        "# 경사 하강법 SGD를 사용하고 learning rate는 0.01\n",
        "optimizer = torch.optim.SGD(model.parameters(), lr=0.01) \n",
        "\n",
        "# 전체 훈련 데이터에 대해 경사 하강법을 2,000회 반복\n",
        "nb_epochs = 2000\n",
        "for epoch in range(nb_epochs):\n",
        "\n",
        "    # H(x) 계산 (forward 연산)\n",
        "    prediction = model(x_train)\n",
        "\n",
        "    # loss 계산\n",
        "    loss = F.mse_loss(prediction, y_train) # <== 파이토치에서 제공하는 평균 제곱 오차 함수\n",
        "\n",
        "    # loss로 H(x) 개선\n",
        "\n",
        "    # gradient를 0으로 초기화\n",
        "    optimizer.zero_grad()\n",
        "    # 비용 함수를 미분하여 gradient 계산\n",
        "    loss.backward() # backward 연산\n",
        "    # W와 b를 업데이트\n",
        "    optimizer.step()\n",
        "\n",
        "    # 100번마다 로그 출력\n",
        "    if epoch % 100 == 0:\n",
        "      print('Epoch {:4d}/{} W: {:.6f}, b: {:.6f} loss: {:.6f}'.format(\n",
        "          epoch, nb_epochs, list(model.parameters())[0].squeeze().detach(), list(model.parameters())[1].squeeze().detach(), loss.item()\n",
        "      ))\n",
        "    if epoch == 1999:\n",
        "      print('Epoch {:4d}/{} W: {:.6f}, b: {:.6f} loss: {:.6f}'.format(\n",
        "          epoch+1, nb_epochs, list(model.parameters())[0].squeeze().detach(), list(model.parameters())[1].squeeze().detach(), loss.item()\n",
        "      ))"
      ],
      "execution_count": null,
      "outputs": [
        {
          "output_type": "stream",
          "text": [
            "Epoch    0/2000 W: 0.671494, b: -0.373161 loss: 13.103541\n",
            "Epoch  100/2000 W: 1.938784, b: 0.139133 loss: 0.002791\n",
            "Epoch  200/2000 W: 1.951886, b: 0.109375 loss: 0.001724\n",
            "Epoch  300/2000 W: 1.962178, b: 0.085978 loss: 0.001066\n",
            "Epoch  400/2000 W: 1.970268, b: 0.067587 loss: 0.000658\n",
            "Epoch  500/2000 W: 1.976628, b: 0.053129 loss: 0.000407\n",
            "Epoch  600/2000 W: 1.981628, b: 0.041765 loss: 0.000251\n",
            "Epoch  700/2000 W: 1.985558, b: 0.032831 loss: 0.000155\n",
            "Epoch  800/2000 W: 1.988647, b: 0.025808 loss: 0.000096\n",
            "Epoch  900/2000 W: 1.991076, b: 0.020287 loss: 0.000059\n",
            "Epoch 1000/2000 W: 1.992985, b: 0.015948 loss: 0.000037\n",
            "Epoch 1100/2000 W: 1.994485, b: 0.012536 loss: 0.000023\n",
            "Epoch 1200/2000 W: 1.995665, b: 0.009855 loss: 0.000014\n",
            "Epoch 1300/2000 W: 1.996592, b: 0.007747 loss: 0.000009\n",
            "Epoch 1400/2000 W: 1.997321, b: 0.006090 loss: 0.000005\n",
            "Epoch 1500/2000 W: 1.997894, b: 0.004787 loss: 0.000003\n",
            "Epoch 1600/2000 W: 1.998345, b: 0.003763 loss: 0.000002\n",
            "Epoch 1700/2000 W: 1.998698, b: 0.002959 loss: 0.000001\n",
            "Epoch 1800/2000 W: 1.998977, b: 0.002326 loss: 0.000001\n",
            "Epoch 1900/2000 W: 1.999195, b: 0.001829 loss: 0.000000\n",
            "Epoch 2000/2000 W: 1.999366, b: 0.001442 loss: 0.000000\n"
          ],
          "name": "stdout"
        }
      ]
    },
    {
      "cell_type": "markdown",
      "metadata": {
        "id": "6MRoiVRqFDIE"
      },
      "source": [
        "이제 위에서 학습된 모델을 이용해 x=4 일 때 y값을 예측해보자\n",
        "\n"
      ]
    },
    {
      "cell_type": "code",
      "metadata": {
        "colab": {
          "base_uri": "https://localhost:8080/"
        },
        "id": "jRvX-5lzFJdH",
        "outputId": "d1788d17-e8fa-435d-952b-416b5c2256b9"
      },
      "source": [
        "# 임의의 입력 데이터 x = 4를 선언\n",
        "test_x =  torch.FloatTensor([[4.0]])\n",
        "\n",
        "# 입력한 값 4에 대해서 예측값 y를 리턴받아서 pred_y에 저장\n",
        "pred_y = model(test_x) # forward 연산\n",
        "\n",
        "# y = 2x 이므로 x = 4라면 y가 8에 가까운 값이 나와야 제대로 학습이 된 것\n",
        "print(\"훈련 후 x = 4일 때의 예측값 :\", pred_y.detach()) "
      ],
      "execution_count": null,
      "outputs": [
        {
          "output_type": "stream",
          "text": [
            "훈련 후 x = 4일 때의 예측값 : tensor([[7.9989]])\n"
          ],
          "name": "stdout"
        }
      ]
    },
    {
      "cell_type": "markdown",
      "metadata": {
        "id": "hAgKbyLYFyOZ"
      },
      "source": [
        "* $H(x)$식에서 입력 $x$로부터 예측된 $y$를 얻는 것을 forward 연산이라고 한다\n",
        "* 학습 전, prediction = model(x_train)은 x_train으로부터 예측값을 리턴하므로 forward 연산이다\n",
        "* 학습 후, pred_y = model(test_x)는 임의의 입력값 test_x로부터 모델의 예측값을 반환하므로 forward 연산이다\n",
        "* 학습 과정에서 loss function를 미분하여 기울기를 구하는 것을 backward 연산이라고 한다\n",
        "* loss.backward()는 loss function으로부터 기울기를 구하라는 의미이며 backward 연산이다"
      ]
    },
    {
      "cell_type": "markdown",
      "metadata": {
        "id": "550Xq3HmGnsO"
      },
      "source": [
        "##### **4-1) Multivariable Linear Regression 구현**"
      ]
    },
    {
      "cell_type": "markdown",
      "metadata": {
        "id": "LR6dfNblGvtZ"
      },
      "source": [
        "마찬가지 방법으로, nn.Linear()를 이용하여 입력 변수가 3개, 출력 변수가 1개인 다중 선형 회귀 또한 가능하다"
      ]
    },
    {
      "cell_type": "code",
      "metadata": {
        "colab": {
          "base_uri": "https://localhost:8080/"
        },
        "id": "PMKC8UDBHrpw",
        "outputId": "2ce62887-1e40-487e-d611-55c800c0af24"
      },
      "source": [
        "# 필요 모듈 import\n",
        "import torch\n",
        "import torch.nn as nn\n",
        "import torch.nn.functional as F\n",
        "\n",
        "# 랜덤 시드 선언\n",
        "torch.manual_seed(1)\n",
        "\n",
        "# 학습 데이터 선언\n",
        "x_train = torch.FloatTensor([[73, 80, 75],\n",
        "                             [93, 88, 93],\n",
        "                             [89, 91, 90],\n",
        "                             [96, 98, 100],\n",
        "                             [73, 66, 70]])\n",
        "y_train = torch.FloatTensor([[152], [185], [180], [196], [142]])\n",
        "\n",
        "# 모델을 선언 및 초기화\n",
        "# 다중 선형 회귀이므로 input_dim=3, output_dim=1.\n",
        "model = nn.Linear(3,1)\n",
        "\n",
        "# 모델 내부에 선언, 랜덤으로 초기화 된 3개의 weight와 1개의 bias 확인 가능\n",
        "print(list(model.parameters()))\n"
      ],
      "execution_count": null,
      "outputs": [
        {
          "output_type": "stream",
          "text": [
            "[Parameter containing:\n",
            "tensor([[ 0.2975, -0.2548, -0.1119]], requires_grad=True), Parameter containing:\n",
            "tensor([0.2710], requires_grad=True)]\n"
          ],
          "name": "stdout"
        }
      ]
    },
    {
      "cell_type": "code",
      "metadata": {
        "colab": {
          "base_uri": "https://localhost:8080/"
        },
        "id": "-sxtfbeaHt-Z",
        "outputId": "caaeebee-16e8-417d-cf35-e02de0542538"
      },
      "source": [
        "list(model.parameters())[0].squeeze().detach()[0].item()"
      ],
      "execution_count": null,
      "outputs": [
        {
          "output_type": "execute_result",
          "data": {
            "text/plain": [
              "0.2974873483181"
            ]
          },
          "metadata": {
            "tags": []
          },
          "execution_count": 176
        }
      ]
    },
    {
      "cell_type": "code",
      "metadata": {
        "colab": {
          "base_uri": "https://localhost:8080/"
        },
        "id": "KCK839a1DrCD",
        "outputId": "f3805302-6374-465d-f882-da377dcc081c"
      },
      "source": [
        "# 필요 모듈 import\n",
        "import torch\n",
        "import torch.nn as nn\n",
        "import torch.nn.functional as F\n",
        "\n",
        "# 랜덤 시드 선언\n",
        "torch.manual_seed(1)\n",
        "\n",
        "# 학습 데이터 선언\n",
        "x_train = torch.FloatTensor([[73, 80, 75],\n",
        "                             [93, 88, 93],\n",
        "                             [89, 91, 90],\n",
        "                             [96, 98, 100],\n",
        "                             [73, 66, 70]])\n",
        "y_train = torch.FloatTensor([[152], [185], [180], [196], [142]])\n",
        "\n",
        "# 모델을 선언 및 초기화\n",
        "# 다중 선형 회귀이므로 input_dim=3, output_dim=1.\n",
        "model = nn.Linear(3,1)\n",
        "\n",
        "# 모델 내부에 선언, 랜덤으로 초기화 된 3개의 weight와 1개의 bias 확인 가능\n",
        "print(list(model.parameters()))\n",
        "print(\"\\n\")\n",
        "# optimizer 선언\n",
        "optimizer = torch.optim.SGD(model.parameters(), lr=1e-5)\n",
        "\n",
        "# 정한 epoch 만큼 학습 후 결과 출력\n",
        "nb_epochs = 2000\n",
        "for epoch in range(nb_epochs):\n",
        "\n",
        "    # H(x) 계산\n",
        "    prediction = model(x_train)\n",
        "    # model(x_train)은 model.forward(x_train)와 동일함.\n",
        "\n",
        "    # loss 계산\n",
        "    loss = F.mse_loss(prediction, y_train) # <== 파이토치에서 제공하는 평균 제곱 오차 함수\n",
        "\n",
        "    # loss로 H(x) 개선하는 부분\n",
        "    # gradient를 0으로 초기화\n",
        "    optimizer.zero_grad()\n",
        "    # loss 함수를 미분하여 gradient 계산\n",
        "    loss.backward()\n",
        "    # W와 b를 업데이트\n",
        "    optimizer.step()\n",
        "\n",
        "    # 100번마다 로그 출력\n",
        "    if epoch % 100 == 0:\n",
        "      print('Epoch {:4d}/{} loss: {:.6f}'.format(\n",
        "          epoch, nb_epochs, loss.item()\n",
        "      ))\n",
        "      print('w1: {:.6f}, w2: {:.6f}, w3: {:.6f}, b: {:.6f}'.format(\n",
        "          list(model.parameters())[0].squeeze().detach()[0].item(), list(model.parameters())[0].squeeze().detach()[1].item(), list(model.parameters())[0].squeeze().detach()[2].item(), list(model.parameters())[1].detach().item()\n",
        "      ))\n",
        "      print(\"\\n\")\n",
        "    if epoch == 1999:\n",
        "      print('Epoch {:4d}/{} loss: {:.6f}'.format(\n",
        "          epoch+1, nb_epochs, loss.item()\n",
        "      ))\n",
        "      print('w1: {:.6f}, w2: {:.6f}, w3: {:.6f}, b: {:.6f}'.format(\n",
        "          list(model.parameters())[0].squeeze().detach()[0].item(), list(model.parameters())[0].squeeze().detach()[1].item(), list(model.parameters())[0].squeeze().detach()[2].item(), list(model.parameters())[1].detach().item()\n",
        "      ))\n",
        "      print(\"\\n\")"
      ],
      "execution_count": null,
      "outputs": [
        {
          "output_type": "stream",
          "text": [
            "[Parameter containing:\n",
            "tensor([[ 0.2975, -0.2548, -0.1119]], requires_grad=True), Parameter containing:\n",
            "tensor([0.2710], requires_grad=True)]\n",
            "\n",
            "\n",
            "Epoch    0/2000 loss: 31667.597656\n",
            "w1: 0.601220, w2: 0.048619, w3: 0.195340, b: 0.274523\n",
            "\n",
            "\n",
            "Epoch  100/2000 loss: 0.225993\n",
            "w1: 0.986909, w2: 0.435802, w3: 0.585671, b: 0.279073\n",
            "\n",
            "\n",
            "Epoch  200/2000 loss: 0.223911\n",
            "w1: 0.986259, w2: 0.436978, w3: 0.585152, b: 0.279130\n",
            "\n",
            "\n",
            "Epoch  300/2000 loss: 0.221941\n",
            "w1: 0.985630, w2: 0.438124, w3: 0.584640, b: 0.279186\n",
            "\n",
            "\n",
            "Epoch  400/2000 loss: 0.220059\n",
            "w1: 0.985024, w2: 0.439242, w3: 0.584134, b: 0.279243\n",
            "\n",
            "\n",
            "Epoch  500/2000 loss: 0.218271\n",
            "w1: 0.984439, w2: 0.440333, w3: 0.583634, b: 0.279300\n",
            "\n",
            "\n",
            "Epoch  600/2000 loss: 0.216575\n",
            "w1: 0.983875, w2: 0.441398, w3: 0.583141, b: 0.279356\n",
            "\n",
            "\n",
            "Epoch  700/2000 loss: 0.214950\n",
            "w1: 0.983330, w2: 0.442436, w3: 0.582653, b: 0.279413\n",
            "\n",
            "\n",
            "Epoch  800/2000 loss: 0.213413\n",
            "w1: 0.982805, w2: 0.443449, w3: 0.582171, b: 0.279469\n",
            "\n",
            "\n",
            "Epoch  900/2000 loss: 0.211952\n",
            "w1: 0.982299, w2: 0.444438, w3: 0.581695, b: 0.279526\n",
            "\n",
            "\n",
            "Epoch 1000/2000 loss: 0.210560\n",
            "w1: 0.981811, w2: 0.445402, w3: 0.581224, b: 0.279583\n",
            "\n",
            "\n",
            "Epoch 1100/2000 loss: 0.209232\n",
            "w1: 0.981341, w2: 0.446343, w3: 0.580759, b: 0.279643\n",
            "\n",
            "\n",
            "Epoch 1200/2000 loss: 0.207967\n",
            "w1: 0.980888, w2: 0.447261, w3: 0.580299, b: 0.279703\n",
            "\n",
            "\n",
            "Epoch 1300/2000 loss: 0.206761\n",
            "w1: 0.980452, w2: 0.448158, w3: 0.579844, b: 0.279762\n",
            "\n",
            "\n",
            "Epoch 1400/2000 loss: 0.205619\n",
            "w1: 0.980033, w2: 0.449032, w3: 0.579394, b: 0.279822\n",
            "\n",
            "\n",
            "Epoch 1500/2000 loss: 0.204522\n",
            "w1: 0.979630, w2: 0.449886, w3: 0.578949, b: 0.279881\n",
            "\n",
            "\n",
            "Epoch 1600/2000 loss: 0.203484\n",
            "w1: 0.979242, w2: 0.450719, w3: 0.578508, b: 0.279941\n",
            "\n",
            "\n",
            "Epoch 1700/2000 loss: 0.202485\n",
            "w1: 0.978870, w2: 0.451532, w3: 0.578072, b: 0.280001\n",
            "\n",
            "\n",
            "Epoch 1800/2000 loss: 0.201542\n",
            "w1: 0.978512, w2: 0.452326, w3: 0.577642, b: 0.280060\n",
            "\n",
            "\n",
            "Epoch 1900/2000 loss: 0.200635\n",
            "w1: 0.978169, w2: 0.453102, w3: 0.577215, b: 0.280120\n",
            "\n",
            "\n",
            "Epoch 2000/2000 loss: 0.199780\n",
            "w1: 0.977843, w2: 0.453851, w3: 0.576796, b: 0.280179\n",
            "\n",
            "\n"
          ],
          "name": "stdout"
        }
      ]
    },
    {
      "cell_type": "markdown",
      "metadata": {
        "id": "GsIS4e97KI5P"
      },
      "source": [
        "위에서 학습한 모델에 3번의 퀴즈 점수를 입력하여 기말 점수를 예측해보자"
      ]
    },
    {
      "cell_type": "code",
      "metadata": {
        "colab": {
          "base_uri": "https://localhost:8080/"
        },
        "id": "x1sj4DEFKPDY",
        "outputId": "0e469777-2405-4999-e2e6-30b2b1fc61d0"
      },
      "source": [
        "# 임의의 입력 (3번의 퀴즈 점수) [73, 80, 75]를 선언\n",
        "test_x =  torch.FloatTensor([[73, 80, 75]]) \n",
        "# 입력한 값 [73, 80, 75]에 대해서 예측값 y를 리턴받아서 pred_y에 저장\n",
        "pred_y = model(test_x) \n",
        "print(\"훈련 후 입력이 73, 80, 75일 때의 기말 점수 예측값 :\", pred_y.squeeze().detach())"
      ],
      "execution_count": null,
      "outputs": [
        {
          "output_type": "stream",
          "text": [
            "훈련 후 입력이 73, 80, 75일 때의 기말 점수 예측값 : tensor(151.2305)\n"
          ],
          "name": "stdout"
        }
      ]
    },
    {
      "cell_type": "markdown",
      "metadata": {
        "id": "UBTpZKmJJsAw"
      },
      "source": [
        "이 학습의 경우, lr 값이 1e-4가 되면 학습이 발산한다는 것을 아래와 같이 확인 할 수 있다"
      ]
    },
    {
      "cell_type": "code",
      "metadata": {
        "colab": {
          "base_uri": "https://localhost:8080/"
        },
        "id": "tfb-GqQ4JEwg",
        "outputId": "99ede887-32c7-4837-8e69-afb451a9b9ee"
      },
      "source": [
        "# 필요 모듈 import\n",
        "import torch\n",
        "import torch.nn as nn\n",
        "import torch.nn.functional as F\n",
        "\n",
        "# 랜덤 시드 선언\n",
        "torch.manual_seed(1)\n",
        "\n",
        "# 학습 데이터 선언\n",
        "x_train = torch.FloatTensor([[73, 80, 75],\n",
        "                             [93, 88, 93],\n",
        "                             [89, 91, 90],\n",
        "                             [96, 98, 100],\n",
        "                             [73, 66, 70]])\n",
        "y_train = torch.FloatTensor([[152], [185], [180], [196], [142]])\n",
        "\n",
        "# 모델을 선언 및 초기화\n",
        "# 다중 선형 회귀이므로 input_dim=3, output_dim=1.\n",
        "model = nn.Linear(3,1)\n",
        "\n",
        "# 모델 내부에 선언, 랜덤으로 초기화 된 3개의 weight와 1개의 bias 확인 가능\n",
        "print(list(model.parameters()))\n",
        "print(\"\\n\")\n",
        "# optimizer 선언\n",
        "optimizer = torch.optim.SGD(model.parameters(), lr=1e-4) ##### lr값이 커서 학습 발산\n",
        "\n",
        "# 정한 epoch 만큼 학습 후 결과 출력\n",
        "nb_epochs = 100\n",
        "for epoch in range(nb_epochs):\n",
        "\n",
        "    # H(x) 계산\n",
        "    prediction = model(x_train)\n",
        "    # model(x_train)은 model.forward(x_train)와 동일함.\n",
        "\n",
        "    # loss 계산\n",
        "    loss = F.mse_loss(prediction, y_train) # <== 파이토치에서 제공하는 평균 제곱 오차 함수\n",
        "\n",
        "    # loss로 H(x) 개선하는 부분\n",
        "    # gradient를 0으로 초기화\n",
        "    optimizer.zero_grad()\n",
        "    # loss 함수를 미분하여 gradient 계산\n",
        "    loss.backward()\n",
        "    # W와 b를 업데이트\n",
        "    optimizer.step()\n",
        "\n",
        "    # 10번마다 로그 출력\n",
        "    if epoch % 10 == 0:\n",
        "      print('Epoch {:4d}/{} loss: {:.6f}'.format(\n",
        "          epoch, nb_epochs, loss.item()\n",
        "      ))\n",
        "      print('w1: {:.6f}, w2: {:.6f}, w3: {:.6f}, b: {:.6f}'.format(\n",
        "          list(model.parameters())[0].squeeze().detach()[0].item(), list(model.parameters())[0].squeeze().detach()[1].item(), list(model.parameters())[0].squeeze().detach()[2].item(), list(model.parameters())[1].detach().item()\n",
        "      ))\n",
        "      print(\"\\n\")\n",
        "    if epoch == 99:\n",
        "      print('Epoch {:4d}/{} loss: {:.6f}'.format(\n",
        "          epoch+1, nb_epochs, loss.item()\n",
        "      ))\n",
        "      print('w1: {:.6f}, w2: {:.6f}, w3: {:.6f}, b: {:.6f}'.format(\n",
        "          list(model.parameters())[0].squeeze().detach()[0].item(), list(model.parameters())[0].squeeze().detach()[1].item(), list(model.parameters())[0].squeeze().detach()[2].item(), list(model.parameters())[1].detach().item()\n",
        "      ))\n",
        "      print(\"\\n\")"
      ],
      "execution_count": null,
      "outputs": [
        {
          "output_type": "stream",
          "text": [
            "[Parameter containing:\n",
            "tensor([[ 0.2975, -0.2548, -0.1119]], requires_grad=True), Parameter containing:\n",
            "tensor([0.2710], requires_grad=True)]\n",
            "\n",
            "\n",
            "Epoch    0/100 loss: 31667.597656\n",
            "w1: 3.334811, w2: 2.779658, w3: 2.960735, b: 0.306319\n",
            "\n",
            "\n",
            "Epoch   10/100 loss: 1360449547272192.000000\n",
            "w1: 486522.375000, w2: 486037.156250, w3: 492179.875000, b: 5658.153320\n",
            "\n",
            "\n",
            "Epoch   20/100 loss: 58445736974251639435165696.000000\n",
            "w1: 100841005056.000000, w2: 100740538368.000000, w3: 102013714432.000000, b: 1172704384.000000\n",
            "\n",
            "\n",
            "Epoch   30/100 loss: 2510863907554234082177378527622463488.000000\n",
            "w1: 20901254335037440.000000, w2: 20880428038619136.000000, w3: 21144317271736320.000000, b: 243065721716736.000000\n",
            "\n",
            "\n",
            "Epoch   40/100 loss: inf\n",
            "w1: 4332189529328031105024.000000, w2: 4327874236460080037888.000000, w3: 4382569890984541290496.000000, b: 50380084579579985920.000000\n",
            "\n",
            "\n",
            "Epoch   50/100 loss: inf\n",
            "w1: 897930464175505062733283328.000000, w2: 897035944661882739156320256.000000, w3: 908372723273774270873862144.000000, b: 10442249874897171285803008.000000\n",
            "\n",
            "\n",
            "Epoch   60/100 loss: inf\n",
            "w1: 186113510959652518755878345637888.000000, w2: 185928071410330191557511815888896.000000, w3: 188277855690211867825871511355392.000000, b: 2164358935437729541885968515072.000000\n",
            "\n",
            "\n",
            "Epoch   70/100 loss: nan\n",
            "w1: nan, w2: nan, w3: nan, b: nan\n",
            "\n",
            "\n",
            "Epoch   80/100 loss: nan\n",
            "w1: nan, w2: nan, w3: nan, b: nan\n",
            "\n",
            "\n",
            "Epoch   90/100 loss: nan\n",
            "w1: nan, w2: nan, w3: nan, b: nan\n",
            "\n",
            "\n",
            "Epoch  100/100 loss: nan\n",
            "w1: nan, w2: nan, w3: nan, b: nan\n",
            "\n",
            "\n"
          ],
          "name": "stdout"
        }
      ]
    },
    {
      "cell_type": "markdown",
      "metadata": {
        "id": "xqGfXeuxKsCk"
      },
      "source": [
        "### **5) Class를 사용하여 Linear Regression 구현하기**"
      ]
    },
    {
      "cell_type": "markdown",
      "metadata": {
        "id": "sGI3jwoYK1Oq"
      },
      "source": [
        "##### **5-1) Linear Regression 구현**"
      ]
    },
    {
      "cell_type": "code",
      "metadata": {
        "id": "eI68UnA2K00I"
      },
      "source": [
        "# 필요 패키지\n",
        "import torch\n",
        "import torch.nn as nn\n",
        "import torch.nn.functional as F\n",
        "\n",
        "# 랜덤 시드\n",
        "torch.manual_seed(1)\n",
        "\n",
        "# 데이터\n",
        "x_train = torch.FloatTensor([[1], [2], [3]])\n",
        "y_train = torch.FloatTensor([[2], [4], [6]])\n",
        "\n",
        "# 단순 선형 회귀를 구현하는 class 선언\n",
        "# 이 class는 nn.Module을 상속 받는다 (즉, nn.Module 내부 기능들을 사용 가능하다)\n",
        "# 생성자에서 super()를 통해 초기화를 진행하면 nn.Module 클래스의 속성을 가지고 초기화된다\n",
        "# 본 class에서 사용 가능한 forward 연산을 아래와 같이 구현 가능하다\n",
        "class LinearRegressionModel(nn.Module):\n",
        "    def __init__(self):\n",
        "        super().__init__()\n",
        "        self.linear = nn.Linear(1, 1) ### 단순 선형 회귀 모델\n",
        "\n",
        "    def forward(self, x):\n",
        "        return self.linear(x)\n",
        "\n",
        "# 위에서 선언한 class 를 이용하여 모델 선언\n",
        "model = LinearRegressionModel()\n",
        "\n",
        "# optimizer 설정\n",
        "optimizer = torch.optim.SGD(model.parameters(), lr=0.01)\n",
        "\n",
        "# 전체 훈련 데이터에 대해 경사 하강법을 2,000회 반복\n",
        "nb_epochs = 2000\n",
        "for epoch in range(nb_epochs+1):\n",
        "\n",
        "    # H(x) 계산\n",
        "    prediction = model(x_train)\n",
        "\n",
        "    # cost 계산\n",
        "    cost = F.mse_loss(prediction, y_train) # <== 파이토치에서 제공하는 평균 제곱 오차 함수\n",
        "\n",
        "    # cost로 H(x) 개선하는 부분\n",
        "    # gradient를 0으로 초기화\n",
        "    optimizer.zero_grad()\n",
        "    # 비용 함수를 미분하여 gradient 계산\n",
        "    cost.backward() # backward 연산\n",
        "    # W와 b를 업데이트\n",
        "    optimizer.step()\n",
        "\n",
        "    if epoch % 100 == 0:\n",
        "    # 100번마다 로그 출력\n",
        "      print('Epoch {:4d}/{} Cost: {:.6f}'.format(\n",
        "          epoch, nb_epochs, cost.item()\n",
        "      ))"
      ],
      "execution_count": null,
      "outputs": []
    },
    {
      "cell_type": "markdown",
      "metadata": {
        "id": "I4i9qQw0L4hN"
      },
      "source": [
        "##### **5-2) Multivariable Linear Regression 구현**"
      ]
    },
    {
      "cell_type": "code",
      "metadata": {
        "id": "tKj6z0E5L83H"
      },
      "source": [
        "# 필요 패키지\n",
        "import torch\n",
        "import torch.nn as nn\n",
        "import torch.nn.functional as F\n",
        "\n",
        "# 랜덤 시드\n",
        "torch.manual_seed(1)\n",
        "\n",
        "# 데이터\n",
        "x_train = torch.FloatTensor([[73, 80, 75],\n",
        "                             [93, 88, 93],\n",
        "                             [89, 91, 90],\n",
        "                             [96, 98, 100],\n",
        "                             [73, 66, 70]])\n",
        "y_train = torch.FloatTensor([[152], [185], [180], [196], [142]])\n",
        "\n",
        "# 다변수 선형 회귀를 구현하는 class 선언\n",
        "# 이 class는 nn.Module을 상속 받는다 (즉, nn.Module 내부 기능들을 사용 가능하다)\n",
        "# 생성자에서 super()를 통해 초기화를 진행하면 nn.Module 클래스의 속성을 가지고 초기화된다\n",
        "# 본 class에서 사용 가능한 forward 연산을 아래와 같이 구현 가능하다\n",
        "class MultivariateLinearRegressionModel(nn.Module):\n",
        "    def __init__(self):\n",
        "        super().__init__()\n",
        "        self.linear = nn.Linear(3, 1) ### 다변수 선형 회귀 모델\n",
        "\n",
        "    def forward(self, x):\n",
        "        return self.linear(x)\n",
        "\n",
        "# 위에서 선언한 class 를 이용하여 모델 선언\n",
        "model = MultivariateLinearRegressionModel()\n",
        "\n",
        "# optimizer 설정\n",
        "optimizer = torch.optim.SGD(model.parameters(), lr=0.01)\n",
        "\n",
        "nb_epochs = 2000\n",
        "for epoch in range(nb_epochs+1):\n",
        "\n",
        "    # H(x) 계산\n",
        "    prediction = model(x_train)\n",
        "    # model(x_train)은 model.forward(x_train)와 동일함.\n",
        "\n",
        "    # cost 계산\n",
        "    cost = F.mse_loss(prediction, y_train) # <== 파이토치에서 제공하는 평균 제곱 오차 함수\n",
        "\n",
        "    # cost로 H(x) 개선하는 부분\n",
        "    # gradient를 0으로 초기화\n",
        "    optimizer.zero_grad()\n",
        "    # 비용 함수를 미분하여 gradient 계산\n",
        "    cost.backward()\n",
        "    # W와 b를 업데이트\n",
        "    optimizer.step()\n",
        "\n",
        "    if epoch % 100 == 0:\n",
        "    # 100번마다 로그 출력\n",
        "      print('Epoch {:4d}/{} Cost: {:.6f}'.format(\n",
        "          epoch, nb_epochs, cost.item()\n",
        "      ))"
      ],
      "execution_count": null,
      "outputs": []
    },
    {
      "cell_type": "markdown",
      "metadata": {
        "id": "90OscTu7MU0k"
      },
      "source": [
        "# **Mini Batch와 Data Load**"
      ]
    },
    {
      "cell_type": "markdown",
      "metadata": {
        "id": "l4XhWMeFShNP"
      },
      "source": [
        "### **1) Batch, Dataset, DataLoader**"
      ]
    },
    {
      "cell_type": "markdown",
      "metadata": {
        "id": "-DdOV_BWMfkO"
      },
      "source": [
        "다중 선형 회귀에서 사용한 데이터는 다음과 같았다"
      ]
    },
    {
      "cell_type": "code",
      "metadata": {
        "id": "151hXr8XMdjO"
      },
      "source": [
        "x_train = torch.FloatTensor([[73, 80, 75],\n",
        "                             [93, 88, 93],\n",
        "                             [89, 91, 90],\n",
        "                             [96, 98, 100],\n",
        "                             [73, 66, 70]])\n",
        "y_train = torch.FloatTensor([[152], [185], [180], [196], [142]])"
      ],
      "execution_count": null,
      "outputs": []
    },
    {
      "cell_type": "markdown",
      "metadata": {
        "id": "o_PniUcoNRhC"
      },
      "source": [
        "여기서 입력 데이터는 총 5개 (학생 5명의 퀴즈 점수들) 이다\n",
        "\n",
        "실제로 모델을 학습 할 때는 이보다 훨씬 많은 양의 데이터를 사용한다 (보통 ~수십만개 이상의 데이터)\n",
        "\n",
        "지금까지 모델 학습 시 위의 5개 데이터를 한번에 모델에 집어넣어 학습을 하였으나, 데이터의 양이 늘어나면 GPU의 메모리 한계 때문에 계산이 불가능하거나, 가능하더라도 학습에 아주 많은 시간이 요구된다\n",
        "\n",
        "따라서 전체 데이터를 작은 데이터셋들(Mini Batch)로 나눠서 학습을 진행하는 편이 효율적이다"
      ]
    },
    {
      "cell_type": "markdown",
      "metadata": {
        "id": "j1EL_gqPOJVt"
      },
      "source": [
        "![image.png](data:image/png;base64,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)"
      ]
    },
    {
      "cell_type": "markdown",
      "metadata": {
        "id": "O0Lu2-ZuOLiN"
      },
      "source": [
        "* 에포크(Epoch)는 전체 훈련 데이터가 학습에 한 번 사용된 주기를 말한다\n",
        "\n",
        "* 미니 배치 학습에서는 미니 배치의 개수만큼 경사 하강법을 수행해야 전체 데이터가 한 번 전부 사용되어 1 에포크(Epoch)가 된다\n",
        "\n",
        "* 미니 배치의 개수는 미니 배치의 크기를 몇으로 하느냐에 따라서 달라지는데, 미니 배치의 크기를 배치 크기(batch size)라고 한다\n",
        "\n",
        "* 전체 데이터에 대해서 한 번에 경사 하강법을 수행하는 방법을 '배치 경사 하강법'이라고 한다\\\n",
        "배치 경사 하강법은 학습 진행 시 전체 데이터를 사용하므로 가중치 값이 최적값에 수렴하는 과정이 안정적이지만, 계산량이 너무 많이 든다\n",
        "\n",
        "* 미니 배치 단위로 경사 하강법을 수행하는 방법을 '미니 배치 경사 하강법'이라고 한다\\\n",
        "미니 배치 경사 하강법은 학습 진행 시 전체 데이터의 일부만을 보고 수행하므로 최적값으로 수렴하는 과정에서 값이 조금 헤매기도 하지만 훈련 속도가 빠르다\n",
        "\n",
        "* 배치 크기는 보통 2의 제곱수를 사용한다 ex) 2, 4, 8, 16, 32, 64...\\\n",
        "(CPU와 GPU의 메모리가 2의 배수이므로 배치크기가 2의 제곱수일 경우에 데이터 송수신의 효율을 높일 수 있다)"
      ]
    },
    {
      "cell_type": "markdown",
      "metadata": {
        "id": "bDfYo3dGPGd2"
      },
      "source": [
        "Mini Batch와 batch size에 대해 이해 한 후, 이터레이션 (iteration) 을 정의 할 수 있다"
      ]
    },
    {
      "cell_type": "markdown",
      "metadata": {
        "id": "YpHicnMwPQdT"
      },
      "source": [
        "![image.png](data:image/png;base64,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)"
      ]
    },
    {
      "cell_type": "markdown",
      "metadata": {
        "id": "YdQNV4OYPRUV"
      },
      "source": [
        "Iteration은 한 번의 epoch 내에서 가중치 $W$와 편향 $b$가 업데이트 되는 횟수이다\n",
        "\n",
        "예를 들어 전체 데이터가 2000개이고, batch size = 200 이라면 한 에폭에 10번의 학습 step이 존재하고, 각 step이 완료될 때 마다 $W$와 $b$의 업데이트가 이뤄진다"
      ]
    },
    {
      "cell_type": "markdown",
      "metadata": {
        "id": "oSFRTpfEPygm"
      },
      "source": [
        "PyTorch는 이런 Mini batch 학습을 지원하는 도구들 (Dataset, DataLoader 등) 을 제공한다\n",
        "\n",
        "기본적으로 학습에 사용할 Dataset을 정의 한 후, 이를 DataLoader를 통해 모델에 전달한다"
      ]
    },
    {
      "cell_type": "code",
      "metadata": {
        "id": "6zZy_1RCPQC9"
      },
      "source": [
        "import torch\n",
        "import torch.nn as nn\n",
        "import torch.nn.functional as F"
      ],
      "execution_count": null,
      "outputs": []
    },
    {
      "cell_type": "code",
      "metadata": {
        "id": "jPo66LZ7OJt6"
      },
      "source": [
        "# 데이터셋, 데이터로더 사용을 위해 패키지 import\n",
        "from torch.utils.data import TensorDataset # 텐서데이터셋\n",
        "from torch.utils.data import DataLoader # 데이터로더"
      ],
      "execution_count": null,
      "outputs": []
    },
    {
      "cell_type": "code",
      "metadata": {
        "id": "WsdvqF7pQMMV"
      },
      "source": [
        "#TensorDataset에 전달 할 데이터\n",
        "\n",
        "x_train  =  torch.FloatTensor([[73,  80,  75], \n",
        "                               [93,  88,  93], \n",
        "                               [89,  91,  90], \n",
        "                               [96,  98,  100],   \n",
        "                               [73,  66,  70]])  \n",
        "y_train  =  torch.FloatTensor([[152],  [185],  [180],  [196],  [142]])"
      ],
      "execution_count": null,
      "outputs": []
    },
    {
      "cell_type": "code",
      "metadata": {
        "id": "CU7NH7FRQUjp"
      },
      "source": [
        "# 위에서 선언한 데이터를 TensorDataset에 입력하고 dataset 이라는 이름으로 저장\n",
        "\n",
        "dataset = TensorDataset(x_train, y_train)"
      ],
      "execution_count": null,
      "outputs": []
    },
    {
      "cell_type": "markdown",
      "metadata": {
        "id": "o4V4w6EpQfGc"
      },
      "source": [
        "위와 같이 TensorDataset을 만들었다면, 이제 이를 DataLoader를 통해 원하는 batch size로 나눠서 모델에 전달 할 수 있다\n",
        "\n",
        "이 때 shuffle=True 를 통해 각 Epoch마다 모델에 전달되는 데이터 셋의 순서를 랜덤하게 섞어 줄 수 있다"
      ]
    },
    {
      "cell_type": "code",
      "metadata": {
        "id": "_8qkcX0qQdCz"
      },
      "source": [
        "# 위에서 저장한 dataset을 DataLoader에 전달, 순서를 섞기 위해 shuffle=True 사용\n",
        "# batch_size = 2, 따라서 매 epoch마다 5개의 전체 데이터는 2, 2, 1개의 mini batch로 쪼개져서 모델에 전달된다\n",
        "# 즉, 각 epoch마다 총 3번의 학습 step이 존재한다\n",
        "dataloader = DataLoader(dataset, batch_size=2, shuffle=True) "
      ],
      "execution_count": null,
      "outputs": []
    },
    {
      "cell_type": "markdown",
      "metadata": {
        "id": "ZGKiqIOmSJ7Y"
      },
      "source": [
        "전체 학습 코드는 아래와 같다"
      ]
    },
    {
      "cell_type": "code",
      "metadata": {
        "colab": {
          "base_uri": "https://localhost:8080/"
        },
        "id": "goPBPS_TRbnH",
        "outputId": "7d3b96ff-5639-4c99-a6be-89f81df0db8b"
      },
      "source": [
        "# 전체 학습 코드\n",
        "\n",
        "import torch\n",
        "import torch.nn as nn\n",
        "import torch.nn.functional as F\n",
        "\n",
        "# 데이터셋, 데이터로더 사용을 위해 패키지 import\n",
        "from torch.utils.data import TensorDataset # 텐서데이터셋\n",
        "from torch.utils.data import DataLoader # 데이터로더\n",
        "\n",
        "#TensorDataset에 전달 할 데이터\n",
        "\n",
        "x_train  =  torch.FloatTensor([[73,  80,  75], \n",
        "                               [93,  88,  93], \n",
        "                               [89,  91,  90], \n",
        "                               [96,  98,  100],   \n",
        "                               [73,  66,  70]])  \n",
        "y_train  =  torch.FloatTensor([[152],  [185],  [180],  [196],  [142]])\n",
        "\n",
        "# 위에서 선언한 데이터를 TensorDataset에 입력하고 dataset 이라는 이름으로 저장\n",
        "\n",
        "dataset = TensorDataset(x_train, y_train)\n",
        "\n",
        "# 위에서 저장한 dataset을 DataLoader에 전달, 순서를 섞기 위해 shuffle=True 사용\n",
        "# batch_size = 2, 따라서 매 epoch마다 5개의 전체 데이터는 2, 2, 1개의 mini batch로 쪼개져서 모델에 전달된다\n",
        "# 즉, 각 epoch마다 총 3번의 학습 step이 존재한다\n",
        "dataloader = DataLoader(dataset, batch_size=2, shuffle=True) \n",
        "\n",
        "# 모델, optimizer 선언\n",
        "model = nn.Linear(3,1)\n",
        "optimizer = torch.optim.SGD(model.parameters(), lr=1e-5) \n",
        "\n",
        "# 지정한 epoch만큼 학습 진행\n",
        "# 각 epoch마다 3번의 step 존재, 즉 iteration = 3\n",
        "# 따라서 가중치와 편향은 매 epoch마다 3번씩 업데이트 된다\n",
        "nb_epochs = 20\n",
        "for epoch in range(nb_epochs + 1):\n",
        "  for batch_idx, samples in enumerate(dataloader):\n",
        "    # print(batch_idx)\n",
        "    # print(samples)\n",
        "    x_train, y_train = samples\n",
        "    # H(x) 계산\n",
        "    prediction = model(x_train)\n",
        "\n",
        "    # cost 계산\n",
        "    cost = F.mse_loss(prediction, y_train)\n",
        "\n",
        "    # cost로 H(x) 계산\n",
        "    optimizer.zero_grad()\n",
        "    cost.backward()\n",
        "    optimizer.step()\n",
        "\n",
        "    print('Epoch {:4d}/{} step {}/{} Cost: {:.6f}'.format(\n",
        "        epoch, nb_epochs, batch_idx+1, len(dataloader),\n",
        "        cost.item()\n",
        "        ))\n",
        "  print(\"\\n\")"
      ],
      "execution_count": null,
      "outputs": [
        {
          "output_type": "stream",
          "text": [
            "Epoch    0/20 step 1/3 Cost: 37210.574219\n",
            "Epoch    0/20 step 2/3 Cost: 16463.394531\n",
            "Epoch    0/20 step 3/3 Cost: 2130.966309\n",
            "\n",
            "\n",
            "Epoch    1/20 step 1/3 Cost: 1196.248047\n",
            "Epoch    1/20 step 2/3 Cost: 607.885376\n",
            "Epoch    1/20 step 3/3 Cost: 302.890442\n",
            "\n",
            "\n",
            "Epoch    2/20 step 1/3 Cost: 45.500126\n",
            "Epoch    2/20 step 2/3 Cost: 19.989773\n",
            "Epoch    2/20 step 3/3 Cost: 0.266310\n",
            "\n",
            "\n",
            "Epoch    3/20 step 1/3 Cost: 3.424530\n",
            "Epoch    3/20 step 2/3 Cost: 38.331135\n",
            "Epoch    3/20 step 3/3 Cost: 5.501321\n",
            "\n",
            "\n",
            "Epoch    4/20 step 1/3 Cost: 1.433258\n",
            "Epoch    4/20 step 2/3 Cost: 28.980219\n",
            "Epoch    4/20 step 3/3 Cost: 23.308434\n",
            "\n",
            "\n",
            "Epoch    5/20 step 1/3 Cost: 10.520474\n",
            "Epoch    5/20 step 2/3 Cost: 13.878951\n",
            "Epoch    5/20 step 3/3 Cost: 18.593840\n",
            "\n",
            "\n",
            "Epoch    6/20 step 1/3 Cost: 29.622368\n",
            "Epoch    6/20 step 2/3 Cost: 8.460442\n",
            "Epoch    6/20 step 3/3 Cost: 12.447860\n",
            "\n",
            "\n",
            "Epoch    7/20 step 1/3 Cost: 15.158208\n",
            "Epoch    7/20 step 2/3 Cost: 15.029005\n",
            "Epoch    7/20 step 3/3 Cost: 16.188663\n",
            "\n",
            "\n",
            "Epoch    8/20 step 1/3 Cost: 22.005436\n",
            "Epoch    8/20 step 2/3 Cost: 10.459313\n",
            "Epoch    8/20 step 3/3 Cost: 3.193160\n",
            "\n",
            "\n",
            "Epoch    9/20 step 1/3 Cost: 5.326753\n",
            "Epoch    9/20 step 2/3 Cost: 34.206059\n",
            "Epoch    9/20 step 3/3 Cost: 6.489759\n",
            "\n",
            "\n",
            "Epoch   10/20 step 1/3 Cost: 14.927752\n",
            "Epoch   10/20 step 2/3 Cost: 10.264236\n",
            "Epoch   10/20 step 3/3 Cost: 22.840803\n",
            "\n",
            "\n",
            "Epoch   11/20 step 1/3 Cost: 9.285964\n",
            "Epoch   11/20 step 2/3 Cost: 14.182501\n",
            "Epoch   11/20 step 3/3 Cost: 25.182674\n",
            "\n",
            "\n",
            "Epoch   12/20 step 1/3 Cost: 12.642315\n",
            "Epoch   12/20 step 2/3 Cost: 8.240534\n",
            "Epoch   12/20 step 3/3 Cost: 23.208206\n",
            "\n",
            "\n",
            "Epoch   13/20 step 1/3 Cost: 5.351597\n",
            "Epoch   13/20 step 2/3 Cost: 33.863327\n",
            "Epoch   13/20 step 3/3 Cost: 6.484629\n",
            "\n",
            "\n",
            "Epoch   14/20 step 1/3 Cost: 14.822121\n",
            "Epoch   14/20 step 2/3 Cost: 7.782313\n",
            "Epoch   14/20 step 3/3 Cost: 18.253662\n",
            "\n",
            "\n",
            "Epoch   15/20 step 1/3 Cost: 0.237765\n",
            "Epoch   15/20 step 2/3 Cost: 16.368322\n",
            "Epoch   15/20 step 3/3 Cost: 30.391155\n",
            "\n",
            "\n",
            "Epoch   16/20 step 1/3 Cost: 7.286834\n",
            "Epoch   16/20 step 2/3 Cost: 19.645077\n",
            "Epoch   16/20 step 3/3 Cost: 7.765937\n",
            "\n",
            "\n",
            "Epoch   17/20 step 1/3 Cost: 23.057938\n",
            "Epoch   17/20 step 2/3 Cost: 18.047241\n",
            "Epoch   17/20 step 3/3 Cost: 1.990607\n",
            "\n",
            "\n",
            "Epoch   18/20 step 1/3 Cost: 15.271704\n",
            "Epoch   18/20 step 2/3 Cost: 1.486597\n",
            "Epoch   18/20 step 3/3 Cost: 33.744904\n",
            "\n",
            "\n",
            "Epoch   19/20 step 1/3 Cost: 11.688018\n",
            "Epoch   19/20 step 2/3 Cost: 18.650589\n",
            "Epoch   19/20 step 3/3 Cost: 16.152462\n",
            "\n",
            "\n",
            "Epoch   20/20 step 1/3 Cost: 12.638277\n",
            "Epoch   20/20 step 2/3 Cost: 7.614962\n",
            "Epoch   20/20 step 3/3 Cost: 35.864082\n",
            "\n",
            "\n"
          ],
          "name": "stdout"
        }
      ]
    },
    {
      "cell_type": "markdown",
      "metadata": {
        "id": "WOpSWumdSNMM"
      },
      "source": [
        "위에서 학습한 모델을 사용해 임의의 입력에 대한 출력값을 예측 할 수 있다"
      ]
    },
    {
      "cell_type": "code",
      "metadata": {
        "colab": {
          "base_uri": "https://localhost:8080/"
        },
        "id": "6rpZaRFXR9NG",
        "outputId": "7c28f676-35a9-4666-9c0d-e4c47d5ad513"
      },
      "source": [
        "# 임의의 입력 [73, 80, 75]를 선언\n",
        "test_x =  torch.FloatTensor([[73, 80, 75]]) \n",
        "# 입력한 값 [73, 80, 75]에 대해서 예측값 y를 리턴받아서 pred_y에 저장\n",
        "pred_y = model(test_x) \n",
        "print(\"훈련 후 입력이 73, 80, 75일 때의 예측값 :\", pred_y.squeeze().detach()) "
      ],
      "execution_count": null,
      "outputs": [
        {
          "output_type": "stream",
          "text": [
            "훈련 후 입력이 73, 80, 75일 때의 예측값 : tensor(156.5337)\n"
          ],
          "name": "stdout"
        }
      ]
    },
    {
      "cell_type": "markdown",
      "metadata": {
        "id": "0lX5Q5TrSoEc"
      },
      "source": [
        "### **2) Custom Dataset 을 사용한 학습**"
      ]
    },
    {
      "cell_type": "markdown",
      "metadata": {
        "id": "XoPjUaY6S86f"
      },
      "source": [
        "PyTorch에서 기본적으로 제공하는 Dataset 이외에도, 본인의 학습 데이터에 맞도록 수정한 Custom Dataset을 만들어 쓰는 경우도 있다\n",
        "\n",
        "사실 연습 이외에 실제로 모델 학습을 한다면 custom dataset을 더 많이 쓴다\n",
        "\n",
        "Custom Dataset은 PyTorch의 Dataset을 상속하며, 기본적으로 아래의 뼈대가 필요하다"
      ]
    },
    {
      "cell_type": "code",
      "metadata": {
        "id": "ShB-SGvZWFxp"
      },
      "source": [
        "class CustomDataset(torch.utils.data.Dataset): \n",
        "  def __init__(self):\n",
        "  # 데이터셋의 전처리를 해주는 부분\n",
        "\n",
        "  def __len__(self):\n",
        "  # 데이터셋의 길이. 즉, 총 샘플의 수를 적어주는 부분\n",
        "  # len(dataset)을 했을 때 데이터셋의 크기를 리턴할 len\n",
        "\n",
        "  def __getitem__(self, idx): \n",
        "  # 데이터셋에서 특정 1개의 샘플을 가져오는 함수\n",
        "  # dataset[idx]을 했을 때 idx번째 샘플을 가져오도록 하는 인덱싱을 위한 get_item"
      ],
      "execution_count": null,
      "outputs": []
    },
    {
      "cell_type": "markdown",
      "metadata": {
        "id": "lyL40Xz9TyHM"
      },
      "source": [
        "직접 Custom dataset을 만들어 선형 회귀를 진행해 보자"
      ]
    },
    {
      "cell_type": "code",
      "metadata": {
        "id": "nvMErycWTsGu"
      },
      "source": [
        "# 필요한 모듈 import\n",
        "\n",
        "import torch\n",
        "import torch.nn.functional as F\n",
        "\n",
        "from torch.utils.data import Dataset\n",
        "from torch.utils.data import DataLoader"
      ],
      "execution_count": null,
      "outputs": []
    },
    {
      "cell_type": "code",
      "metadata": {
        "id": "AYMyK1FNTxKU"
      },
      "source": [
        "# Dataset 상속하는 custom dataset 클래스 선언\n",
        "# Dataset을 상속한다는 것은 Dataset 클래스의 기능들을 사용 할 수 있다는 뜻\n",
        "\n",
        "class CustomDataset(Dataset): \n",
        "  def __init__(self):\n",
        "    self.x_data = [[73, 80, 75],\n",
        "                   [93, 88, 93],\n",
        "                   [89, 91, 90],\n",
        "                   [96, 98, 100],\n",
        "                   [73, 66, 70]]\n",
        "    self.y_data = [[152], [185], [180], [196], [142]]\n",
        "    # 이 경우 따로 데이터를 전처리 할 필요가 없다\n",
        "    # 따라서 사용할 입력, 출력 데이터를 그대로 선언해준다\n",
        "\n",
        "  # 총 데이터의 개수를 반환하도록 정의\n",
        "  def __len__(self): \n",
        "    return len(self.x_data)\n",
        "\n",
        "  # 인덱스(idx)를 입력받아 그에 맵핑되는 입,출력 데이터를 Tensor 형태로 리턴\n",
        "  def __getitem__(self, idx): \n",
        "    x = torch.FloatTensor(self.x_data[idx])\n",
        "    y = torch.FloatTensor(self.y_data[idx])\n",
        "    return x, y"
      ],
      "execution_count": null,
      "outputs": []
    },
    {
      "cell_type": "code",
      "metadata": {
        "id": "FR_IulvpUbzz"
      },
      "source": [
        "# 위에서 선언한 custom dataset을 이용해 data loader로 전달\n",
        "\n",
        "dataset = CustomDataset()\n",
        "dataloader = DataLoader(dataset, batch_size=2, shuffle=True)"
      ],
      "execution_count": null,
      "outputs": []
    },
    {
      "cell_type": "markdown",
      "metadata": {
        "id": "uWVcxwlaUhSy"
      },
      "source": [
        "따라서 전체 학습 코드는 아래와 같다"
      ]
    },
    {
      "cell_type": "code",
      "metadata": {
        "id": "XTXUsPtzUgw4"
      },
      "source": [
        "# 필요한 모듈 import\n",
        "\n",
        "import torch\n",
        "import torch.nn.functional as F\n",
        "\n",
        "from torch.utils.data import Dataset\n",
        "from torch.utils.data import DataLoader\n",
        "\n",
        "# Dataset 상속하는 custom dataset 클래스 선언\n",
        "# Dataset을 상속한다는 것은 Dataset 클래스의 기능들을 사용 할 수 있다는 뜻\n",
        "\n",
        "class CustomDataset(Dataset): \n",
        "  def __init__(self):\n",
        "    self.x_data = [[73, 80, 75],\n",
        "                   [93, 88, 93],\n",
        "                   [89, 91, 90],\n",
        "                   [96, 98, 100],\n",
        "                   [73, 66, 70]]\n",
        "    self.y_data = [[152], [185], [180], [196], [142]]\n",
        "    # 이 경우 따로 데이터를 전처리 할 필요가 없다\n",
        "    # 따라서 사용할 입력, 출력 데이터를 그대로 선언해준다\n",
        "\n",
        "  # 총 데이터의 개수를 반환하도록 정의\n",
        "  def __len__(self): \n",
        "    return len(self.x_data)\n",
        "\n",
        "  # 인덱스(idx)를 입력받아 그에 맵핑되는 입,출력 데이터를 Tensor 형태로 리턴\n",
        "  def __getitem__(self, idx): \n",
        "    x = torch.FloatTensor(self.x_data[idx])\n",
        "    y = torch.FloatTensor(self.y_data[idx])\n",
        "    return x, y\n",
        "\n",
        "# 위에서 선언한 custom dataset을 이용해 data loader로 전달\n",
        "\n",
        "dataset = CustomDataset()\n",
        "dataloader = DataLoader(dataset, batch_size=2, shuffle=True)\n",
        "\n",
        "# 모델, optimizer 선언\n",
        "model = torch.nn.Linear(3,1)\n",
        "optimizer = torch.optim.SGD(model.parameters(), lr=1e-5) \n",
        "\n",
        "# 지정한 epoch만큼 전체 데이터셋 반복 학습\n",
        "\n",
        "nb_epochs = 20\n",
        "for epoch in range(nb_epochs + 1):\n",
        "  for batch_idx, samples in enumerate(dataloader):\n",
        "    # print(batch_idx)\n",
        "    # print(samples)\n",
        "    x_train, y_train = samples\n",
        "    # H(x) 계산\n",
        "    prediction = model(x_train)\n",
        "\n",
        "    # cost 계산\n",
        "    cost = F.mse_loss(prediction, y_train)\n",
        "\n",
        "    # cost로 H(x) 계산\n",
        "    optimizer.zero_grad()\n",
        "    cost.backward()\n",
        "    optimizer.step()\n",
        "\n",
        "    print('Epoch {:4d}/{} step {}/{} Cost: {:.6f}'.format(\n",
        "        epoch, nb_epochs, batch_idx+1, len(dataloader),\n",
        "        cost.item()\n",
        "        ))\n",
        "  print('\\n')"
      ],
      "execution_count": null,
      "outputs": []
    },
    {
      "cell_type": "markdown",
      "metadata": {
        "id": "1E-kcMBWVJh-"
      },
      "source": [
        "위에서 학습한 모델에 임의의 입력값을 넣어 예측값 출력 가능"
      ]
    },
    {
      "cell_type": "code",
      "metadata": {
        "id": "ytS32aeDUk4u"
      },
      "source": [
        "# 임의의 입력 [73, 80, 75]를 선언\n",
        "test_x =  torch.FloatTensor([[73, 80, 75]]) \n",
        "# 입력한 값 [73, 80, 75]에 대해서 예측값 y를 리턴받아서 pred_y에 저장\n",
        "pred_y = model(test_x) \n",
        "print(\"훈련 후 입력이 73, 80, 75일 때의 예측값 :\", pred_y.squeeze().detach()) "
      ],
      "execution_count": null,
      "outputs": []
    }
  ]
}